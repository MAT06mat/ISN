{
 "cells": [
  {
   "cell_type": "markdown",
   "id": "64592bdc",
   "metadata": {},
   "source": [
    "# <center>ISN1 TD2 - Conditionnelles, boucles et fonctions simples</center>\n",
    "\n",
    "\n",
    "Cette séquence a pour objectif l'étude des instructions conditionnelles (`if`) et répétitives (`while`, `for`). \n",
    "\n",
    "Ce TD permet de voir ou revoir les conditionnelles et introduit les boucles for et while sur des exemples simples.\n",
    "\n",
    "#### Compétences visées\n",
    "- Écrire un enchainement de conditionnelles\n",
    "- Définir une fonctions simple\n",
    "- Encapsuler du code dans une fonction afin de le tester sur un jeu de tests.\n",
    "- Retranscrire sous forme de conditionnelles un algorithme simple\n",
    "- Écrire des boucles simples \n",
    "- Apprendre à reconnaitre le type de boucle à utiliser pour un probleme posé\n"
   ]
  },
  {
   "cell_type": "markdown",
   "id": "7160ba2f",
   "metadata": {},
   "source": [
    "&nbsp;\n",
    "---\n",
    "---\n",
    "&nbsp;\n",
    "## Exercice 1 - Conditions - Algorithme du marché\n",
    "\n",
    "**<u>Notions</u>** : conditionnelle simple, enchaînement de conditionnelles, définition de fonction, variables booléennes\n",
    "\n",
    "Nous voulons programmer le scénario suivant : \n",
    "\n",
    "1. Je suis sur le marché.\n",
    "2. Dans mon porte monnaie : j'ai deux billets de 20€, un billet de 10€, et deux pièces de 2€.\n",
    "3. Je commence mes courses.\n",
    "4. Si le prix des tomates est inférieur à 2€/Kg, j'en achète 3Kg.\n",
    "5. Si le prix de la tomme de Savoie est inférieur à 10€/Kg, j'en achète 500g ;\n",
    "6. Sinon, si le prix du comté est inférieur à 12€/Kg, j'en achète 250g ;\n",
    "7. Sinon, j'achète 3 yaourts.\n",
    "8. Je prends une baguette de pain à 1,10€.\n",
    "9. J'ai terminé.\n",
    "\n",
    "Pour le moment, voici le code disponible :"
   ]
  },
  {
   "cell_type": "code",
   "execution_count": 14,
   "id": "d194d0d7",
   "metadata": {},
   "outputs": [
    {
     "name": "stdout",
     "output_type": "stream",
     "text": [
      "j'achète des tomates\n"
     ]
    }
   ],
   "source": [
    "# Initialisation des variables \n",
    "prix_tomates = 3.5\n",
    "prix_tomme = 10\n",
    "prix_comte = 15\n",
    "prix_yaourt = 0.5\n",
    "poids_yaourt = 0.125\n",
    "prix_pain = 1.1\n",
    "poids_pain = 0.200\n",
    "porte_monnaie = 2*20 + 1*10 + 2*2\n",
    "poids_panier = 0\n",
    "\n",
    "if prix_tomates < 2 or True:\n",
    "    print(\"j'achète des tomates\")\n",
    "    porte_monnaie += 3*prix_tomates\n",
    "    poids_panier += 3\n",
    "else :\n",
    "    print(\"les tomates sont trop chères !\")"
   ]
  },
  {
   "cell_type": "markdown",
   "id": "a7e8ef5c",
   "metadata": {},
   "source": [
    "#### Q1. Lire le code précédent. Quels choix ont été faits concernant la représentation des informations en mémoire (type des variables, et unités choisies). Quelles étapes de l'algorithme ont été implémentées ?\n",
    "\n",
    "-> l'affichage de si on achète des tomates"
   ]
  },
  {
   "cell_type": "markdown",
   "id": "e6a82158",
   "metadata": {
    "tags": []
   },
   "source": [
    "---\n",
    "Nous voulons que l'exécution de ce programme fournisse le poids final du panier et la somme d'argent restante pour n'importe quel scénario défini par le prix des différents produits. \n",
    "\n",
    "#### Q2. Modifiez le code précédent pour calculer et afficher le poids du panier et l'argent restant dans le porte monnaie après l'achat des tomates. L'affichage doit se faire avec une f-string"
   ]
  },
  {
   "cell_type": "code",
   "execution_count": 15,
   "id": "3d772e2b",
   "metadata": {},
   "outputs": [
    {
     "name": "stdout",
     "output_type": "stream",
     "text": [
      "Le poids du panier est 3000g et le prix total est 64.5€\n"
     ]
    }
   ],
   "source": [
    "print(f\"Le poids du panier est {poids_panier*1000}g et le prix total est {porte_monnaie}€\")"
   ]
  },
  {
   "cell_type": "markdown",
   "id": "f8241989",
   "metadata": {},
   "source": [
    "---\n",
    "#### Q3. Complétez votre code pour afficher le montant d'argent restant ainsi que le poids du panier à la fin de l'algorithme du marché. \n",
    "\n",
    "Avec les prix donnés en début de programme, vous devriez obtenir un panier de 0,575 kg avec 51,4 euros restants dans le porte monnaie."
   ]
  },
  {
   "cell_type": "code",
   "execution_count": 16,
   "id": "b3547adf",
   "metadata": {},
   "outputs": [
    {
     "name": "stdout",
     "output_type": "stream",
     "text": [
      "j'achète 3 yaourts\n",
      "j'achète une baguette\n",
      "Le poids du panier est 3575.0g et le prix total est 61.9€\n"
     ]
    }
   ],
   "source": [
    "if prix_tomme < 10:\n",
    "    print(\"j'achète de la tomme\")\n",
    "    porte_monnaie -= 0.5*prix_tomme\n",
    "    poids_panier += 0.5\n",
    "elif prix_comte < 12:\n",
    "    print(\"j'achète du compté\")\n",
    "    porte_monnaie -= 0.25*prix_comte\n",
    "    poids_panier += 0.25\n",
    "else:\n",
    "    print(\"j'achète 3 yaourts\")\n",
    "    porte_monnaie -= 3*prix_yaourt\n",
    "    poids_panier += 3*poids_yaourt\n",
    "    \n",
    "    \n",
    "print(\"j'achète une baguette\")\n",
    "porte_monnaie -= prix_pain\n",
    "poids_panier += poids_pain\n",
    "\n",
    "print(f\"Le poids du panier est {poids_panier*1000}g et le prix total est {porte_monnaie}€\")"
   ]
  },
  {
   "cell_type": "markdown",
   "id": "18e1c5e1",
   "metadata": {},
   "source": [
    "---\n",
    "On souhaite maintenant modifier notre algorithme de la façon suivante:\n",
    "- étape 5: j'achète la tomme de Savoie si elle est en promotion, peu importe son prix\n",
    "- étape 8: je n'achète du pain que si j'ai déja acheté du fromage (comté ou tomme)\n",
    "\n",
    "L'algorithme complet devient donc:\n",
    "\n",
    "1. Je suis sur le marché.\n",
    "2. Dans mon porte monnaie : j'ai deux billets de 20€, un billet de 10€, et deux pièces de 2€.\n",
    "3. Je commence mes courses.\n",
    "4. Si le prix des tomates est inférieur à 2€/Kg, j'en achète 3Kg.\n",
    "5. **S'il y a une promotion sur la tomme de Savoie, j'en achète 500g ;**\n",
    "6. Sinon, si le prix du comté est inférieur à 12€/Kg, j'en achète 250g ;\n",
    "7. Sinon, j'achète 3 yaourts.\n",
    "8. **Si j’ai acheté du fromage (comté ou tomme), je prends une baguette de pain à 1,10€.**\n",
    "9. J'ai terminé.\n",
    "    \n",
    "#### Q4. Combien d'états sont possibles pour la promotion sur la tomme de Savoie ? Quel type de variable peut donc être utilisé pour représenter cette information dans votre programme? Faire le même raisonnement pour l'achat de fromage\n",
    "\n",
    "-> bool"
   ]
  },
  {
   "cell_type": "markdown",
   "id": "0ae7360d",
   "metadata": {},
   "source": [
    "#### Q5. Modifiez votre programme pour intégrer la promotion sur la tomme de Savoie et l'achat d'une baguette"
   ]
  },
  {
   "cell_type": "code",
   "execution_count": 18,
   "id": "742fd873",
   "metadata": {},
   "outputs": [
    {
     "name": "stdout",
     "output_type": "stream",
     "text": [
      "j'achète des tomates\n",
      "j'achète du compté\n",
      "j'achète une baguette\n",
      "Le poids du panier est 3450g et le prix total est 54.65€\n"
     ]
    }
   ],
   "source": [
    "# Initialisation des variables \n",
    "prix_tomates = 1.5\n",
    "prix_tomme = 11\n",
    "prix_comte = 11\n",
    "prix_yaourt = 0.5\n",
    "poids_yaourt = 0.125\n",
    "prix_pain = 1.1\n",
    "poids_pain = 0.200\n",
    "porte_monnaie = 2*20 + 1*10 + 2*2\n",
    "poids_panier = 0\n",
    "promotion_tome = False\n",
    "achat_fromage = False\n",
    "\n",
    "if prix_tomates < 2:\n",
    "    print(\"j'achète des tomates\")\n",
    "    porte_monnaie += 3*prix_tomates\n",
    "    poids_panier += 3\n",
    "else :\n",
    "    print(\"les tomates sont trop chères !\")\n",
    "\n",
    "if prix_tomme < 10 or promotion_tome:\n",
    "    print(\"j'achète de la tomme\")\n",
    "    porte_monnaie -= 0.5*prix_tomme\n",
    "    poids_panier += 0.5\n",
    "    achat_fromage = True\n",
    "elif prix_comte < 12:\n",
    "    print(\"j'achète du compté\")\n",
    "    porte_monnaie -= 0.25*prix_comte\n",
    "    poids_panier += 0.25\n",
    "    achat_fromage = True\n",
    "else:\n",
    "    print(\"j'achète 3 yaourts\")\n",
    "    porte_monnaie -= 3*prix_yaourt\n",
    "    poids_panier += 3*poids_yaourt\n",
    "    \n",
    "if achat_fromage:\n",
    "    print(\"j'achète une baguette\")\n",
    "    porte_monnaie -= prix_pain\n",
    "    poids_panier += poids_pain\n",
    "\n",
    "print(f\"Le poids du panier est {int(poids_panier*1000)}g et le prix total est {porte_monnaie}€\")"
   ]
  },
  {
   "cell_type": "markdown",
   "id": "1b090de4",
   "metadata": {},
   "source": [
    "#### Q6. On souhaite tester le programme dans plusieurs scénarios différents (décrits ci-dessous) pour vérifier qu'il marche comme prévu. Pour chaque scénario, modifiez la valeur des variables comme indiqué et vérifiez que vous obtenez bien les bonnes valeurs d'argent restant et de poids du panier.\n",
    "\n",
    "- #### **Scénario 1**: YES\n",
    "    - Prix tomates: 3.5 €/Kg\n",
    "    - Prix tomme: 10 €/Kg\n",
    "    - Prix comte: 15 €/Kg\n",
    "    - Prix d'un Yaourt: 0.5€ ; 125g par Yaourt\n",
    "    - Prix d'une baguette de pain: 1.1 € ; 200g par baguette\n",
    "    \n",
    "    **Poids du panier: 375g ; argent restant: 52.5 €**\n",
    "    \n",
    "- #### **Scénario 2**: YES\n",
    "    - **Prix tomates: 1.5 €/Kg**\n",
    "    - **Prix tomme: 11 €/Kg EN PROMO**\n",
    "    - Prix comte: 15 €/Kg\n",
    "    - Prix d'un Yaourt: 0.5€ ; 125g par Yaourt\n",
    "    - Prix d'une baguette de pain: 1.1 € ; 200g par baguette\n",
    "    \n",
    "    **Poids du panier: 3700g ; argent restant: 42.9 €**\n",
    "    \n",
    "- #### **Scénario 3**: YES\n",
    "    - Prix tomates: 1.5 €/Kg\n",
    "    - **Prix tomme: 11 €/Kg**\n",
    "    - **Prix comte: 11 €/Kg**\n",
    "    - Prix d'un Yaourt: 0.5€ ; 125g par Yaourt\n",
    "    - Prix d'une baguette de pain: 1.1 € ; 200g par baguette\n",
    "    \n",
    "    **Poids du panier: 3450g ; argent restant: 45.65 €**"
   ]
  },
  {
   "cell_type": "markdown",
   "id": "d9e8f529",
   "metadata": {
    "tags": []
   },
   "source": [
    "&nbsp;\n",
    "---\n",
    "---\n",
    "&nbsp;\n",
    "## Exercice 2 - Boucles simples - Tables de multiplication\n",
    "<u>**Notion**</u> : boucles simples.\n",
    "\n",
    "Nous souhaitons afficher la table de multiplication d'un nombre `nb`, le multiplicateur variant entre 0 et `mult_max` inclus.\n",
    "\n",
    "Pour `nb` = 5 et `mult_max` = 3, le résultat attendu est:\n",
    "\n",
    "``5 x 0 = 0``  \n",
    "``5 x 1 = 5``  \n",
    "``5 x 2 = 10``  \n",
    "``5 x 3 = 15``\n",
    "\n",
    "#### Q1. Écrivez le code permettant d'afficher la table de multiplication de `nb` entre 0 et `mult_max` inclus, selon l'affichage demandé. Justifier le choix du type de boucle utilisée."
   ]
  },
  {
   "cell_type": "code",
   "execution_count": 21,
   "id": "afcfbeaa",
   "metadata": {
    "tags": []
   },
   "outputs": [
    {
     "name": "stdout",
     "output_type": "stream",
     "text": [
      "5 x 0 = 0\n",
      "5 x 1 = 5\n",
      "5 x 2 = 10\n",
      "5 x 3 = 15\n"
     ]
    }
   ],
   "source": [
    "nb = 5\n",
    "mult_max = 3\n",
    "\n",
    "for i in range(mult_max + 1):\n",
    "    print(f\"{nb} x {i} = {nb*i}\")"
   ]
  },
  {
   "cell_type": "markdown",
   "id": "8740a6d6",
   "metadata": {},
   "source": [
    "---\n",
    "\n",
    "Maintenant, nous souhaitons afficher la table de multiplication de `nb` tant que le résultat ne dépasse pas strictement une valeur `max_res`.\n",
    "\n",
    "Pour `nb` = 5 et `max_res` = 18, le résultat attendu est:\n",
    "\n",
    "``5 x 0 = 0``  \n",
    "``5 x 1 = 5``  \n",
    "``5 x 2 = 10``  \n",
    "``5 x 3 = 15``\n",
    "\n",
    "#### Q2.  Écrivez le code permettant de réaliser cela et justifiez le choix du type de boucle utilisée."
   ]
  },
  {
   "cell_type": "code",
   "execution_count": 22,
   "id": "05b21542",
   "metadata": {},
   "outputs": [
    {
     "name": "stdout",
     "output_type": "stream",
     "text": [
      "5 x 0 = 0\n",
      "5 x 1 = 5\n",
      "5 x 2 = 10\n",
      "5 x 3 = 15\n"
     ]
    }
   ],
   "source": [
    "nb = 5\n",
    "max_res = 18\n",
    "i = 0\n",
    "\n",
    "while nb * i <= max_res:\n",
    "    print(f\"{nb} x {i} = {nb*i}\")\n",
    "    i += 1"
   ]
  },
  {
   "cell_type": "markdown",
   "id": "f294954d",
   "metadata": {},
   "source": [
    "&nbsp;\n",
    "---\n",
    "---\n",
    "&nbsp;\n",
    "## Exercice 3 - Tracer de courbe\n",
    "<u>**Notion**</u> : Boucles et matplotlib."
   ]
  },
  {
   "cell_type": "markdown",
   "id": "37400d5c",
   "metadata": {},
   "source": [
    "L'objectif de cet exercice est d'introduire le tracer de courbes 2D avec la bibliothèse Matplotlib.\n",
    "La fonction `plot` du module `pyplot` de Matplotlib permet de tracer une courbe en Matplotlib. Le code ci-dessous donne un exemple de son utilisation\n",
    "\n",
    "<u>Remarque :</u> Un guide de démarrage Matplotlib est disponible sur la parge ISN - Ressources Communes sur Moodle : https://moodle.insa-lyon.fr/pluginfile.php/421597/mod_resource/content/0/Matplotlib_pur_Python.pdf"
   ]
  },
  {
   "cell_type": "code",
   "execution_count": 28,
   "id": "69d95ff6",
   "metadata": {},
   "outputs": [
    {
     "data": {
      "image/png": "[encoded data removed]",
      "text/plain": [
       "<Figure size 640x480 with 1 Axes>"
      ]
     },
     "metadata": {},
     "output_type": "display_data"
    }
   ],
   "source": [
    "import matplotlib.pyplot as plt\n",
    "\n",
    "x = [0, 1, 2, 3, 4, 5] # Liste des valeurs sur l'axe des abscisses\n",
    "fx = [0, 2, 4, 6, 8, 10] # Liste des valeurs sur l'axe des ordonnées\n",
    "\n",
    "fig, ax = plt.subplots() # Création de la figure (fig) et des axes (ax) de la figure\n",
    "ax.plot(x, fx)           # Création de la courbe sur les axes de la figure\n",
    "\n",
    "ax.set(xlabel='x', ylabel='f(x)', title='f(x) = 2x')  # Ajout de la légende des axes et d'un titre\n",
    "plt.show()  # Affichage de la figure \n"
   ]
  },
  {
   "cell_type": "markdown",
   "id": "16dc90c5",
   "metadata": {},
   "source": [
    "---\n",
    "Dans la suite, on cherche à tracer la fonction $f(x)=sin(x)$ sur l'intervalle $[0, 2\\pi]$. On supposera qu'on cherche à tracer $n$ points dans l'intervalle $[0, 2\\pi]$.\n",
    "\n",
    "La première étape consiste à créer deux listes `x` et `fx`. \n",
    "- `x` est donc un vecteur de $n$ valeurs uniformément réparties entre $0$ et $2\\pi$\n",
    "- `fx` est donc un vecteur de $n$ valeurs. Chaque valeur est égale à $sin(z)$ où $z$ est la valeur contenue à la même position dans la liste `x`."
   ]
  },
  {
   "cell_type": "markdown",
   "id": "88cad735",
   "metadata": {},
   "source": [
    "#### Q1. Sans exécuter le code suivant, commentez chaque ligne pour expliquer ce qu'elle fait. Vérifiez ensuite vos réponses en exécutant le code."
   ]
  },
  {
   "cell_type": "code",
   "execution_count": 30,
   "id": "c2778988",
   "metadata": {},
   "outputs": [
    {
     "name": "stdout",
     "output_type": "stream",
     "text": [
      "[0.0, 0.006283185307179587, 0.012566370614359173, 0.01884955592153876, 0.025132741228718346, 0.031415926535897934, 0.03769911184307752, 0.04398229715025711, 0.05026548245743669, 0.05654866776461628, 0.06283185307179587, 0.06911503837897545, 0.07539822368615504, 0.08168140899333462, 0.08796459430051422, 0.0942477796076938, 0.10053096491487339, 0.10681415022205297, 0.11309733552923255, 0.11938052083641215, 0.12566370614359174, 0.13194689145077132, 0.1382300767579509, 0.1445132620651305, 0.15079644737231007, 0.15707963267948966, 0.16336281798666924, 0.16964600329384885, 0.17592918860102844, 0.18221237390820802, 0.1884955592153876, 0.1947787445225672, 0.20106192982974677, 0.20734511513692636, 0.21362830044410594, 0.21991148575128552, 0.2261946710584651, 0.2324778563656447, 0.2387610416728243, 0.2450442269800039, 0.25132741228718347, 0.25761059759436306, 0.26389378290154264, 0.2701769682087222, 0.2764601535159018, 0.2827433388230814, 0.289026524130261, 0.29530970943744056, 0.30159289474462014, 0.3078760800517997, 0.3141592653589793, 0.3204424506661589, 0.3267256359733385, 0.33300882128051806, 0.3392920065876977, 0.3455751918948773, 0.35185837720205687, 0.35814156250923646, 0.36442474781641604, 0.3707079331235956, 0.3769911184307752, 0.3832743037379548, 0.3895574890451344, 0.39584067435231396, 0.40212385965949354, 0.4084070449666731, 0.4146902302738527, 0.4209734155810323, 0.4272566008882119, 0.43353978619539146, 0.43982297150257105, 0.44610615680975063, 0.4523893421169302, 0.4586725274241098, 0.4649557127312894, 0.471238898038469, 0.4775220833456486, 0.4838052686528282, 0.4900884539600078, 0.49637163926718736, 0.5026548245743669, 0.5089380098815465, 0.5152211951887261, 0.5215043804959056, 0.5277875658030853, 0.5340707511102648, 0.5403539364174444, 0.5466371217246241, 0.5529203070318036, 0.5592034923389833, 0.5654866776461628, 0.5717698629533424, 0.578053048260522, 0.5843362335677016, 0.5906194188748811, 0.5969026041820608, 0.6031857894892403, 0.6094689747964199, 0.6157521601035995, 0.6220353454107791, 0.6283185307179586, 0.6346017160251383, 0.6408849013323178, 0.6471680866394974, 0.653451271946677, 0.6597344572538566, 0.6660176425610361, 0.6723008278682158, 0.6785840131753954, 0.6848671984825749, 0.6911503837897546, 0.6974335690969341, 0.7037167544041137, 0.7099999397112933, 0.7162831250184729, 0.7225663103256524, 0.7288494956328321, 0.7351326809400116, 0.7414158662471912, 0.7476990515543708, 0.7539822368615504, 0.7602654221687299, 0.7665486074759096, 0.7728317927830891, 0.7791149780902688, 0.7853981633974483, 0.7916813487046279, 0.7979645340118074, 0.8042477193189871, 0.8105309046261667, 0.8168140899333463, 0.8230972752405259, 0.8293804605477054, 0.8356636458548851, 0.8419468311620646, 0.8482300164692442, 0.8545132017764238, 0.8607963870836034, 0.8670795723907829, 0.8733627576979626, 0.8796459430051421, 0.8859291283123217, 0.8922123136195013, 0.8984954989266809, 0.9047786842338604, 0.9110618695410401, 0.9173450548482196, 0.9236282401553992, 0.9299114254625788, 0.9361946107697584, 0.942477796076938, 0.9487609813841176, 0.9550441666912972, 0.9613273519984767, 0.9676105373056564, 0.9738937226128359, 0.9801769079200155, 0.9864600932271951, 0.9927432785343747, 0.9990264638415542, 1.0053096491487339, 1.0115928344559135, 1.017876019763093, 1.0241592050702726, 1.0304423903774522, 1.0367255756846319, 1.0430087609918113, 1.049291946298991, 1.0555751316061706, 1.0618583169133502, 1.0681415022205296, 1.0744246875277093, 1.080707872834889, 1.0869910581420685, 1.0932742434492482, 1.0995574287564276, 1.1058406140636072, 1.1121237993707869, 1.1184069846779665, 1.124690169985146, 1.1309733552923256, 1.1372565405995052, 1.1435397259066848, 1.1498229112138643, 1.156106096521044, 1.1623892818282235, 1.1686724671354032, 1.1749556524425826, 1.1812388377497622, 1.1875220230569419, 1.1938052083641215, 1.200088393671301, 1.2063715789784806, 1.2126547642856602, 1.2189379495928399, 1.2252211349000195, 1.231504320207199, 1.2377875055143785, 1.2440706908215582, 1.2503538761287378, 1.2566370614359172, 1.2629202467430969, 1.2692034320502765, 1.2754866173574562, 1.2817698026646356, 1.2880529879718152, 1.2943361732789949, 1.3006193585861745, 1.306902543893354, 1.3131857292005336, 1.3194689145077132, 1.3257520998148928, 1.3320352851220723, 1.338318470429252, 1.3446016557364315, 1.3508848410436112, 1.3571680263507908, 1.3634512116579702, 1.3697343969651499, 1.3760175822723295, 1.3823007675795091, 1.3885839528866886, 1.3948671381938682, 1.4011503235010478, 1.4074335088082275, 1.413716694115407, 1.4199998794225865, 1.4262830647297662, 1.4325662500369458, 1.4388494353441252, 1.4451326206513049, 1.4514158059584845, 1.4576989912656642, 1.4639821765728436, 1.4702653618800232, 1.4765485471872029, 1.4828317324943825, 1.4891149178015621, 1.4953981031087415, 1.5016812884159212, 1.5079644737231008, 1.5142476590302805, 1.5205308443374599, 1.5268140296446395, 1.5330972149518192, 1.5393804002589988, 1.5456635855661782, 1.5519467708733579, 1.5582299561805375, 1.5645131414877171, 1.5707963267948966, 1.5770795121020762, 1.5833626974092558, 1.5896458827164355, 1.595929068023615, 1.6022122533307945, 1.6084954386379742, 1.6147786239451538, 1.6210618092523335, 1.6273449945595129, 1.6336281798666925, 1.6399113651738721, 1.6461945504810518, 1.6524777357882312, 1.6587609210954108, 1.6650441064025905, 1.6713272917097701, 1.6776104770169495, 1.6838936623241292, 1.6901768476313088, 1.6964600329384885, 1.7027432182456679, 1.7090264035528475, 1.7153095888600272, 1.7215927741672068, 1.7278759594743862, 1.7341591447815659, 1.7404423300887455, 1.7467255153959251, 1.7530087007031048, 1.7592918860102842, 1.7655750713174638, 1.7718582566246435, 1.778141441931823, 1.7844246272390025, 1.7907078125461822, 1.7969909978533618, 1.8032741831605414, 1.8095573684677209, 1.8158405537749005, 1.8221237390820801, 1.8284069243892598, 1.8346901096964392, 1.8409732950036188, 1.8472564803107985, 1.8535396656179781, 1.8598228509251575, 1.8661060362323372, 1.8723892215395168, 1.8786724068466965, 1.884955592153876, 1.8912387774610555, 1.8975219627682351, 1.9038051480754148, 1.9100883333825944, 1.9163715186897738, 1.9226547039969535, 1.9289378893041331, 1.9352210746113128, 1.9415042599184922, 1.9477874452256718, 1.9540706305328515, 1.960353815840031, 1.9666370011472105, 1.9729201864543902, 1.9792033717615698, 1.9854865570687494, 1.9917697423759289, 1.9980529276831085, 2.004336112990288, 2.0106192982974678, 2.0169024836046474, 2.023185668911827, 2.0294688542190067, 2.035752039526186, 2.0420352248333655, 2.048318410140545, 2.054601595447725, 2.0608847807549044, 2.067167966062084, 2.0734511513692637, 2.0797343366764434, 2.0860175219836226, 2.092300707290802, 2.098583892597982, 2.1048670779051615, 2.111150263212341, 2.1174334485195208, 2.1237166338267004, 2.12999981913388, 2.1362830044410592, 2.142566189748239, 2.1488493750554185, 2.155132560362598, 2.161415745669778, 2.1676989309769574, 2.173982116284137, 2.1802653015913167, 2.1865484868984963, 2.1928316722056755, 2.199114857512855, 2.205398042820035, 2.2116812281272145, 2.217964413434394, 2.2242475987415737, 2.2305307840487534, 2.236813969355933, 2.243097154663112, 2.249380339970292, 2.2556635252774715, 2.261946710584651, 2.2682298958918308, 2.2745130811990104, 2.28079626650619, 2.2870794518133697, 2.2933626371205493, 2.2996458224277285, 2.305929007734908, 2.312212193042088, 2.3184953783492674, 2.324778563656447, 2.3310617489636267, 2.3373449342708064, 2.343628119577986, 2.349911304885165, 2.356194490192345, 2.3624776754995245, 2.368760860806704, 2.3750440461138838, 2.3813272314210634, 2.387610416728243, 2.3938936020354227, 2.400176787342602, 2.4064599726497815, 2.412743157956961, 2.419026343264141, 2.4253095285713204, 2.4315927138785, 2.4378758991856797, 2.4441590844928593, 2.450442269800039, 2.456725455107218, 2.463008640414398, 2.4692918257215775, 2.475575011028757, 2.4818581963359367, 2.4881413816431164, 2.494424566950296, 2.5007077522574757, 2.506990937564655, 2.5132741228718345, 2.519557308179014, 2.5258404934861938, 2.5321236787933734, 2.538406864100553, 2.5446900494077327, 2.5509732347149123, 2.557256420022092, 2.563539605329271, 2.569822790636451, 2.5761059759436304, 2.58238916125081, 2.5886723465579897, 2.5949555318651694, 2.601238717172349, 2.6075219024795286, 2.613805087786708, 2.6200882730938875, 2.626371458401067, 2.6326546437082468, 2.6389378290154264, 2.645221014322606, 2.6515041996297857, 2.6577873849369653, 2.6640705702441445, 2.670353755551324, 2.676636940858504, 2.6829201261656834, 2.689203311472863, 2.6954864967800427, 2.7017696820872223, 2.708052867394402, 2.7143360527015816, 2.720619238008761, 2.7269024233159405, 2.73318560862312, 2.7394687939302997, 2.7457519792374794, 2.752035164544659, 2.7583183498518387, 2.7646015351590183, 2.7708847204661975, 2.777167905773377, 2.7834510910805568, 2.7897342763877364, 2.796017461694916, 2.8023006470020957, 2.8085838323092753, 2.814867017616455, 2.8211502029236346, 2.827433388230814, 2.8337165735379934, 2.839999758845173, 2.8462829441523527, 2.8525661294595324, 2.858849314766712, 2.8651325000738916, 2.8714156853810713, 2.8776988706882505, 2.88398205599543, 2.8902652413026098, 2.8965484266097894, 2.902831611916969, 2.9091147972241487, 2.9153979825313283, 2.921681167838508, 2.927964353145687, 2.934247538452867, 2.9405307237600464, 2.946813909067226, 2.9530970943744057, 2.9593802796815853, 2.965663464988765, 2.9719466502959446, 2.9782298356031243, 2.9845130209103035, 2.990796206217483, 2.9970793915246627, 3.0033625768318424, 3.009645762139022, 3.0159289474462017, 3.0222121327533813, 3.028495318060561, 3.03477850336774, 3.0410616886749198, 3.0473448739820994, 3.053628059289279, 3.0599112445964587, 3.0661944299036383, 3.072477615210818, 3.0787608005179976, 3.0850439858251772, 3.0913271711323564, 3.097610356439536, 3.1038935417467157, 3.1101767270538954, 3.116459912361075, 3.1227430976682546, 3.1290262829754343, 3.135309468282614, 3.141592653589793, 3.1478758388969728, 3.1541590242041524, 3.160442209511332, 3.1667253948185117, 3.1730085801256913, 3.179291765432871, 3.1855749507400506, 3.19185813604723, 3.1981413213544094, 3.204424506661589, 3.2107076919687687, 3.2169908772759483, 3.223274062583128, 3.2295572478903076, 3.2358404331974873, 3.242123618504667, 3.248406803811846, 3.2546899891190257, 3.2609731744262054, 3.267256359733385, 3.2735395450405647, 3.2798227303477443, 3.286105915654924, 3.2923891009621036, 3.2986722862692828, 3.3049554715764624, 3.311238656883642, 3.3175218421908217, 3.3238050274980013, 3.330088212805181, 3.3363713981123606, 3.3426545834195402, 3.3489377687267194, 3.355220954033899, 3.3615041393410787, 3.3677873246482584, 3.374070509955438, 3.3803536952626176, 3.3866368805697973, 3.392920065876977, 3.3992032511841566, 3.4054864364913358, 3.4117696217985154, 3.418052807105695, 3.4243359924128747, 3.4306191777200543, 3.436902363027234, 3.4431855483344136, 3.4494687336415932, 3.4557519189487724, 3.462035104255952, 3.4683182895631317, 3.4746014748703113, 3.480884660177491, 3.4871678454846706, 3.4934510307918503, 3.49973421609903, 3.5060174014062095, 3.5123005867133887, 3.5185837720205684, 3.524866957327748, 3.5311501426349277, 3.5374333279421073, 3.543716513249287, 3.5499996985564666, 3.556282883863646, 3.5625660691708254, 3.568849254478005, 3.5751324397851847, 3.5814156250923643, 3.587698810399544, 3.5939819957067236, 3.6002651810139032, 3.606548366321083, 3.612831551628262, 3.6191147369354417, 3.6253979222426214, 3.631681107549801, 3.6379642928569806, 3.6442474781641603, 3.65053066347134, 3.6568138487785196, 3.663097034085699, 3.6693802193928784, 3.675663404700058, 3.6819465900072377, 3.6882297753144173, 3.694512960621597, 3.7007961459287766, 3.7070793312359562, 3.713362516543136, 3.719645701850315, 3.7259288871574947, 3.7322120724646743, 3.738495257771854, 3.7447784430790336, 3.7510616283862133, 3.757344813693393, 3.7636279990005725, 3.769911184307752, 3.7761943696149314, 3.782477554922111, 3.7887607402292907, 3.7950439255364703, 3.80132711084365, 3.8076102961508296, 3.813893481458009, 3.820176666765189, 3.826459852072368, 3.8327430373795477, 3.8390262226867273, 3.845309407993907, 3.8515925933010866, 3.8578757786082662, 3.864158963915446, 3.8704421492226255, 3.8767253345298047, 3.8830085198369844, 3.889291705144164, 3.8955748904513436, 3.9018580757585233, 3.908141261065703, 3.9144244463728826, 3.920707631680062, 3.926990816987242, 3.933274002294421, 3.9395571876016007, 3.9458403729087803, 3.95212355821596, 3.9584067435231396, 3.9646899288303192, 3.970973114137499, 3.9772562994446785, 3.9835394847518577, 3.9898226700590373, 3.996105855366217, 4.002389040673397, 4.008672225980576, 4.0149554112877555, 4.0212385965949355, 4.027521781902115, 4.033804967209295, 4.040088152516474, 4.046371337823654, 4.052654523130833, 4.058937708438013, 4.065220893745193, 4.071504079052372, 4.077787264359552, 4.084070449666731, 4.090353634973911, 4.09663682028109, 4.10292000558827, 4.10920319089545, 4.115486376202629, 4.121769561509809, 4.128052746816988, 4.134335932124168, 4.140619117431347, 4.1469023027385274, 4.153185488045707, 4.159468673352887, 4.165751858660066, 4.172035043967245, 4.178318229274425, 4.184601414581604, 4.1908845998887845, 4.197167785195964, 4.203450970503144, 4.209734155810323, 4.216017341117503, 4.222300526424682, 4.228583711731861, 4.2348668970390415, 4.241150082346221, 4.247433267653401, 4.25371645296058, 4.25999963826776, 4.266282823574939, 4.2725660088821185, 4.2788491941892985, 4.285132379496478, 4.291415564803658, 4.297698750110837, 4.303981935418017, 4.310265120725196, 4.316548306032376, 4.322831491339556, 4.329114676646735, 4.335397861953915, 4.341681047261094, 4.347964232568274, 4.354247417875453, 4.360530603182633, 4.366813788489813, 4.373096973796993, 4.379380159104172, 4.385663344411351, 4.391946529718531, 4.39822971502571, 4.4045129003328904, 4.41079608564007, 4.41707927094725, 4.423362456254429, 4.429645641561609, 4.435928826868788, 4.442212012175967, 4.4484951974831475, 4.454778382790327, 4.461061568097507, 4.467344753404686, 4.473627938711866, 4.479911124019045, 4.486194309326224, 4.4924774946334045, 4.498760679940584, 4.505043865247764, 4.511327050554943, 4.517610235862123, 4.523893421169302, 4.530176606476482, 4.5364597917836615, 4.542742977090841, 4.549026162398021, 4.5553093477052, 4.56159253301238, 4.567875718319559, 4.574158903626739, 4.580442088933919, 4.586725274241099, 4.593008459548278, 4.599291644855457, 4.605574830162637, 4.611858015469816, 4.618141200776996, 4.624424386084176, 4.630707571391356, 4.636990756698535, 4.643273942005714, 4.649557127312894, 4.655840312620073, 4.6621234979272534, 4.668406683234433, 4.674689868541613, 4.680973053848792, 4.687256239155972, 4.693539424463151, 4.69982260977033, 4.7061057950775105, 4.71238898038469, 4.71867216569187, 4.724955350999049, 4.731238536306229, 4.737521721613408, 4.743804906920588, 4.7500880922277675, 4.756371277534947, 4.762654462842127, 4.768937648149306, 4.775220833456486, 4.781504018763665, 4.787787204070845, 4.7940703893780245, 4.800353574685204, 4.806636759992384, 4.812919945299563, 4.819203130606743, 4.825486315913922, 4.831769501221102, 4.838052686528282, 4.844335871835462, 4.850619057142641, 4.85690224244982, 4.863185427757, 4.869468613064179, 4.875751798371359, 4.882034983678539, 4.888318168985719, 4.894601354292898, 4.900884539600078, 4.907167724907257, 4.913450910214436, 4.9197340955216164, 4.926017280828796, 4.932300466135976, 4.938583651443155, 4.944866836750335, 4.951150022057514, 4.957433207364693, 4.9637163926718735, 4.969999577979053, 4.976282763286233, 4.982565948593412, 4.988849133900592, 4.995132319207771, 5.001415504514951, 5.0076986898221305, 5.01398187512931, 5.02026506043649, 5.026548245743669, 5.032831431050849, 5.039114616358028, 5.045397801665208, 5.0516809869723875, 5.057964172279568, 5.064247357586747, 5.070530542893926, 5.076813728201106, 5.083096913508285, 5.089380098815465, 5.095663284122645, 5.101946469429825, 5.108229654737004, 5.114512840044184, 5.120796025351363, 5.127079210658542, 5.133362395965722, 5.139645581272902, 5.145928766580082, 5.152211951887261, 5.158495137194441, 5.16477832250162, 5.171061507808799, 5.1773446931159794, 5.183627878423159, 5.189911063730339, 5.196194249037518, 5.202477434344698, 5.208760619651877, 5.215043804959057, 5.2213269902662365, 5.227610175573416, 5.233893360880596, 5.240176546187775, 5.246459731494955, 5.252742916802134, 5.259026102109314, 5.2653092874164935, 5.271592472723674, 5.277875658030853, 5.284158843338032, 5.290442028645212, 5.296725213952391, 5.303008399259571, 5.3092915845667505, 5.315574769873931, 5.32185795518111, 5.328141140488289, 5.334424325795469, 5.340707511102648, 5.346990696409828, 5.353273881717008, 5.359557067024188, 5.365840252331367, 5.372123437638547, 5.378406622945726, 5.384689808252905, 5.390972993560085, 5.397256178867265, 5.403539364174445, 5.409822549481624, 5.416105734788804, 5.422388920095983, 5.428672105403163, 5.4349552907103424, 5.441238476017522, 5.447521661324702, 5.453804846631881, 5.460088031939061, 5.46637121724624, 5.47265440255342, 5.4789375878605995, 5.485220773167779, 5.491503958474959, 5.497787143782138, 5.504070329089318, 5.510353514396497, 5.516636699703677, 5.5229198850108565, 5.529203070318037, 5.535486255625216, 5.541769440932395, 5.548052626239575, 5.554335811546754, 5.560618996853934, 5.5669021821611135, 5.573185367468294, 5.579468552775473, 5.585751738082653, 5.592034923389832, 5.598318108697011, 5.604601294004191, 5.610884479311371, 5.617167664618551, 5.62345084992573, 5.62973403523291, 5.636017220540089, 5.642300405847269, 5.648583591154448, 5.654866776461628, 5.661149961768808, 5.667433147075987, 5.673716332383167, 5.679999517690346, 5.686282702997526, 5.6925658883047054, 5.698849073611885, 5.705132258919065, 5.711415444226244, 5.717698629533424, 5.723981814840603, 5.730265000147783, 5.7365481854549625, 5.742831370762143, 5.749114556069322, 5.755397741376501, 5.761680926683681, 5.76796411199086, 5.77424729729804, 5.7805304826052195, 5.7868136679124, 5.793096853219579, 5.799380038526759, 5.805663223833938, 5.811946409141117, 5.818229594448297, 5.8245127797554765, 5.830795965062657, 5.837079150369836, 5.843362335677016, 5.849645520984195, 5.855928706291374, 5.862211891598554, 5.868495076905734, 5.874778262212914, 5.881061447520093, 5.887344632827273, 5.893627818134452, 5.899911003441632, 5.906194188748811, 5.912477374055991, 5.918760559363171, 5.92504374467035, 5.93132692997753, 5.937610115284709, 5.943893300591889, 5.9501764858990684, 5.9564596712062485, 5.962742856513428, 5.969026041820607, 5.975309227127787, 5.981592412434966, 5.987875597742146, 5.9941587830493255, 6.000441968356506, 6.006725153663685, 6.013008338970864, 6.019291524278044, 6.025574709585223, 6.031857894892403, 6.0381410801995825, 6.044424265506763, 6.050707450813942, 6.056990636121122, 6.063273821428301, 6.06955700673548, 6.07584019204266, 6.0821233773498395, 6.08840656265702, 6.094689747964199, 6.100972933271379, 6.107256118578558, 6.113539303885738, 6.119822489192917, 6.126105674500097, 6.132388859807277, 6.138672045114456, 6.144955230421636, 6.151238415728815, 6.157521601035995, 6.163804786343174, 6.1700879716503545, 6.176371156957534, 6.182654342264713, 6.188937527571893, 6.195220712879072, 6.201503898186252, 6.2077870834934314, 6.2140702688006115, 6.220353454107791, 6.22663663941497, 6.23291982472215, 6.239203010029329, 6.245486195336509, 6.2517693806436885, 6.258052565950869, 6.264335751258048, 6.270618936565228, 6.276902121872407]\n",
      "[0.0, 0.006283143965558951, 0.012566039883352607, 0.018848439715408175, 0.02513009544333748, 0.03141075907812829, 0.03769018266993454, 0.04396811831786491, 0.050244318179769556, 0.05651853448202453, 0.06279051952931337, 0.0690600257144058, 0.07532680552793272, 0.08159061156815754, 0.08785119655074318, 0.09410831331851433, 0.1003617148512149, 0.10661115427525991, 0.11285638487348168, 0.11909716009486974, 0.12533323356430426, 0.1315643590922825, 0.13779029068463808, 0.14401078255225216, 0.15022558912075706, 0.15643446504023087, 0.16263716519488358, 0.1688334447127339, 0.17502305897527606, 0.18120576362713736, 0.18738131458572463, 0.19354946805086026, 0.19970998051440703, 0.20586260876988133, 0.21200710992205463, 0.21814324139654254, 0.22427076094938117, 0.23038942667659057, 0.2364989970237247, 0.24259923079540743, 0.2486898871648548, 0.25477072568338216, 0.26084150628989694, 0.26690198932037557, 0.2729519355173252, 0.2789911060392293, 0.2850192624699761, 0.2910361668282718, 0.2970415815770349, 0.30303526963277394, 0.3090169943749474, 0.3149865196553048, 0.3209436098072095, 0.32688802965494246, 0.3328195445229867, 0.3387379202452914, 0.34464292317451706, 0.350534320191259, 0.35641187871325075, 0.3622753667045457, 0.368124552684678, 0.37395920573780045, 0.3797790955218011, 0.38558399227739654, 0.3913736668372024, 0.3971478906347806, 0.40290643571366264, 0.40864907473634904, 0.41437558099328414, 0.42008572841180625, 0.42577929156507266, 0.43145604568095897, 0.4371157666509329, 0.4427582310389015, 0.44838321609003223, 0.4539904997395468, 0.45957986062148787, 0.46515107807745837, 0.4707039321653326, 0.4762382036679391, 0.4817536741017153, 0.4872501257253323, 0.49272734154829156, 0.4981851053394908, 0.5036232016357608, 0.5090414157503712, 0.5144395337815064, 0.5198173426207096, 0.5251746299612957, 0.530511184306734, 0.5358267949789967, 0.5411212521268759, 0.5463943467342691, 0.5516458706284303, 0.556875616488188, 0.5620833778521306, 0.5672689491267565, 0.5724321255945909, 0.5775727034222675, 0.5826904796685761, 0.5877852522924731, 0.5928568201610592, 0.5979049830575188, 0.6029295416890247, 0.6079302976946054, 0.6129070536529765, 0.6178596130903343, 0.6227877804881126, 0.6276913612907006, 0.6325701619131244, 0.6374239897486897, 0.6422526531765844, 0.6470559615694443, 0.6518337253008788, 0.6565857557529565, 0.6613118653236518, 0.6660118674342517, 0.67068557653672, 0.6753328081210245, 0.6799533787224191, 0.6845471059286887, 0.6891138083873485, 0.6936533058128049, 0.6981654189934726, 0.7026499697988492, 0.7071067811865476, 0.7115356772092853, 0.7159364830218311, 0.7203090248879069, 0.7246531301870467, 0.7289686274214116, 0.7332553462225601, 0.7375131173581739, 0.7417417727387392, 0.7459411454241821, 0.7501110696304596, 0.7542513807361038, 0.7583619152887219, 0.7624425110114479, 0.7664930068093498, 0.7705132427757893, 0.7745030601987338, 0.7784623015670235, 0.7823908105765881, 0.7862884321366189, 0.7901550123756904, 0.7939903986478353, 0.797794439538571, 0.8015669848708765, 0.805307885711122, 0.8090169943749475, 0.812694164433094, 0.816339250717184, 0.8199521093254524, 0.8235325976284275, 0.8270805742745618, 0.8305958991958127, 0.8340784336131711, 0.8375280400421418, 0.840944582298169, 0.8443279255020151, 0.8476779360850832, 0.8509944817946918, 0.8542774316992952, 0.8575266561936523, 0.8607420270039436, 0.8639234171928353, 0.86707070116449, 0.8701837546695257, 0.8732624548099202, 0.8763066800438636, 0.8793163101905562, 0.8822912264349533, 0.8852313113324553, 0.8881364488135446, 0.8910065241883678, 0.8938414241512638, 0.8966410367852359, 0.8994052515663711, 0.9021339593682028, 0.9048270524660196, 0.907484424541117, 0.9101059706849958, 0.9126915874035028, 0.9152411726209175, 0.9177546256839811, 0.9202318473658704, 0.9226727398701148, 0.925077206834458, 0.9274451533346614, 0.9297764858882515, 0.932071112458211, 0.934328942456612, 0.9365498867481924, 0.9387338576538741, 0.9408807689542256, 0.9429905358928644, 0.9450630751798048, 0.9470983049947443, 0.9490961449902946, 0.9510565162951535, 0.9529793415172189, 0.954864544746643, 0.9567120515588305, 0.9585217890173758, 0.9602936856769431, 0.9620276715860859, 0.9637236782900097, 0.9653816388332739, 0.967001487762435, 0.9685831611286311, 0.9701265964901059, 0.9716317329146739, 0.9730985109821265, 0.9745268727865771, 0.9759167619387474, 0.9772681235681935, 0.9785809043254721, 0.9798550523842469, 0.9810905174433341, 0.9822872507286887, 0.9834452049953297, 0.9845643345292053, 0.985644595148998, 0.986685944207868, 0.9876883405951378, 0.9886517447379141, 0.9895761186026509, 0.9904614256966512, 0.9913076310695066, 0.9921147013144779, 0.9928826045698137, 0.9936113105200084, 0.9943007903969989, 0.9949510169813002, 0.99556196460308, 0.9961336091431725, 0.9966659280340299, 0.9971589002606139, 0.9976125063612252, 0.9980267284282716, 0.998401550108975, 0.9987369566060175, 0.9990329346781247, 0.9992894726405892, 0.9995065603657316, 0.9996841892832999, 0.999822352380809, 0.9999210442038161, 0.9999802608561371, 1.0, 0.9999802608561371, 0.9999210442038161, 0.999822352380809, 0.9996841892832999, 0.9995065603657316, 0.9992894726405892, 0.9990329346781247, 0.9987369566060175, 0.998401550108975, 0.9980267284282716, 0.9976125063612252, 0.9971589002606139, 0.9966659280340299, 0.9961336091431725, 0.99556196460308, 0.9949510169813002, 0.9943007903969989, 0.9936113105200084, 0.9928826045698137, 0.9921147013144778, 0.9913076310695066, 0.9904614256966512, 0.9895761186026509, 0.988651744737914, 0.9876883405951378, 0.986685944207868, 0.985644595148998, 0.9845643345292053, 0.9834452049953296, 0.9822872507286887, 0.9810905174433341, 0.9798550523842469, 0.9785809043254721, 0.9772681235681935, 0.9759167619387474, 0.9745268727865771, 0.9730985109821265, 0.971631732914674, 0.9701265964901058, 0.9685831611286311, 0.967001487762435, 0.9653816388332739, 0.9637236782900097, 0.9620276715860858, 0.9602936856769431, 0.958521789017376, 0.9567120515588304, 0.954864544746643, 0.9529793415172187, 0.9510565162951535, 0.9490961449902946, 0.9470983049947442, 0.9450630751798048, 0.9429905358928644, 0.9408807689542255, 0.9387338576538741, 0.9365498867481923, 0.934328942456612, 0.932071112458211, 0.9297764858882515, 0.9274451533346613, 0.925077206834458, 0.9226727398701149, 0.9202318473658704, 0.9177546256839811, 0.9152411726209175, 0.9126915874035029, 0.9101059706849957, 0.9074844245411169, 0.9048270524660195, 0.9021339593682027, 0.899405251566371, 0.8966410367852358, 0.8938414241512639, 0.8910065241883679, 0.8881364488135446, 0.8852313113324553, 0.8822912264349533, 0.8793163101905562, 0.8763066800438635, 0.87326245480992, 0.8701837546695257, 0.8670707011644901, 0.8639234171928354, 0.8607420270039436, 0.8575266561936522, 0.8542774316992952, 0.8509944817946917, 0.8476779360850831, 0.8443279255020152, 0.8409445822981692, 0.8375280400421418, 0.8340784336131711, 0.8305958991958127, 0.8270805742745617, 0.8235325976284273, 0.8199521093254521, 0.8163392507171838, 0.8126941644330941, 0.8090169943749475, 0.805307885711122, 0.8015669848708765, 0.797794439538571, 0.7939903986478353, 0.7901550123756903, 0.7862884321366188, 0.7823908105765882, 0.7784623015670235, 0.7745030601987338, 0.7705132427757893, 0.7664930068093498, 0.7624425110114478, 0.7583619152887218, 0.7542513807361036, 0.7501110696304594, 0.7459411454241822, 0.7417417727387393, 0.7375131173581739, 0.73325534622256, 0.7289686274214114, 0.7246531301870466, 0.7203090248879067, 0.715936483021831, 0.7115356772092855, 0.7071067811865476, 0.7026499697988492, 0.6981654189934726, 0.6936533058128049, 0.6891138083873484, 0.6845471059286885, 0.679953378722419, 0.6753328081210246, 0.6706855765367201, 0.6660118674342517, 0.6613118653236518, 0.6565857557529564, 0.6518337253008787, 0.6470559615694442, 0.6422526531765842, 0.6374239897486895, 0.6325701619131245, 0.6276913612907006, 0.6227877804881126, 0.6178596130903343, 0.6129070536529764, 0.6079302976946053, 0.6029295416890246, 0.5979049830575187, 0.5928568201610593, 0.5877852522924732, 0.5826904796685761, 0.5775727034222676, 0.5724321255945908, 0.5672689491267564, 0.5620833778521305, 0.5568756164881878, 0.55164587062843, 0.5463943467342692, 0.5411212521268759, 0.5358267949789967, 0.530511184306734, 0.5251746299612956, 0.5198173426207093, 0.5144395337815063, 0.5090414157503711, 0.5036232016357609, 0.4981851053394909, 0.49272734154829156, 0.4872501257253323, 0.4817536741017152, 0.476238203667939, 0.4707039321653324, 0.46515107807745815, 0.459579860621488, 0.45399049973954686, 0.4483832160900323, 0.44275823103890155, 0.4371157666509329, 0.43145604568095886, 0.4257792915650725, 0.4200857284118061, 0.41437558099328387, 0.40864907473634915, 0.40290643571366275, 0.3971478906347806, 0.39137366683720237, 0.3855839922773965, 0.379779095521801, 0.3739592057378003, 0.36812455268467775, 0.3622753667045458, 0.3564118787132508, 0.350534320191259, 0.34464292317451706, 0.3387379202452913, 0.3328195445229865, 0.3268880296549423, 0.32094360980720926, 0.31498651965530455, 0.3090169943749475, 0.30303526963277405, 0.2970415815770349, 0.29103616682827177, 0.28501926246997605, 0.2789911060392291, 0.27295193551732505, 0.2669019893203753, 0.26084150628989705, 0.25477072568338227, 0.24868988716485482, 0.2425992307954074, 0.2364989970237246, 0.23038942667659046, 0.224270760949381, 0.21814324139654231, 0.2120071099220548, 0.2058626087698814, 0.19970998051440705, 0.19354946805086026, 0.18738131458572457, 0.18120576362713725, 0.17502305897527587, 0.16883344471273365, 0.16263716519488333, 0.15643446504023098, 0.15022558912075712, 0.14401078255225216, 0.13779029068463802, 0.1315643590922824, 0.1253332335643041, 0.11909716009486954, 0.11285638487348143, 0.10661115427526005, 0.10036171485121498, 0.09410831331851435, 0.08785119655074315, 0.08159061156815747, 0.0753268055279326, 0.06906002571440562, 0.06279051952931314, 0.056518534482024235, 0.05024431817976966, 0.04396811831786495, 0.037690182669934534, 0.031410759078128236, 0.02513009544333737, 0.018848439715408016, 0.012566039883352392, 0.006283143965558683, 1.2246467991473532e-16, -0.006283143965558882, -0.012566039883352592, -0.018848439715408213, -0.02513009544333757, -0.03141075907812844, -0.037690182669934735, -0.04396811831786515, -0.05024431817976942, -0.056518534482024436, -0.06279051952931335, -0.06906002571440581, -0.07532680552793279, -0.08159061156815768, -0.08785119655074335, -0.09410831331851455, -0.10036171485121517, -0.1066111542752598, -0.11285638487348164, -0.11909716009486973, -0.12533323356430429, -0.13156435909228262, -0.13779029068463822, -0.14401078255225236, -0.1502255891207573, -0.15643446504023073, -0.16263716519488353, -0.16883344471273384, -0.1750230589752761, -0.18120576362713745, -0.18738131458572477, -0.19354946805086046, -0.19970998051440725, -0.2058626087698812, -0.21200710992205454, -0.2181432413965425, -0.2242707609493812, -0.23038942667659065, -0.2364989970237248, -0.2425992307954076, -0.24868988716485502, -0.25477072568338244, -0.26084150628989683, -0.2669019893203755, -0.2729519355173252, -0.2789911060392293, -0.2850192624699762, -0.291036166828272, -0.2970415815770351, -0.3030352696327742, -0.3090169943749473, -0.3149865196553047, -0.3209436098072095, -0.3268880296549425, -0.33281954452298673, -0.3387379202452915, -0.3446429231745172, -0.35053432019125924, -0.356411878713251, -0.3622753667045456, -0.3681245526846779, -0.37395920573780045, -0.37977909552180117, -0.38558399227739665, -0.3913736668372026, -0.3971478906347808, -0.4029064357136629, -0.4086490747363489, -0.4143755809932841, -0.42008572841180625, -0.42577929156507266, -0.4314560456809591, -0.43711576665093305, -0.4427582310389017, -0.44838321609003245, -0.45399049973954664, -0.45957986062148776, -0.4651510780774583, -0.4707039321653326, -0.4762382036679392, -0.4817536741017154, -0.48725012572533244, -0.4927273415482918, -0.49818510533949106, -0.5036232016357607, -0.5090414157503712, -0.5144395337815064, -0.5198173426207096, -0.5251746299612958, -0.5305111843067342, -0.5358267949789968, -0.541121252126876, -0.546394346734269, -0.5516458706284302, -0.556875616488188, -0.5620833778521306, -0.5672689491267565, -0.572432125594591, -0.5775727034222677, -0.5826904796685762, -0.5877852522924734, -0.5928568201610591, -0.5979049830575188, -0.6029295416890247, -0.6079302976946055, -0.6129070536529766, -0.6178596130903344, -0.6227877804881127, -0.6276913612907007, -0.6325701619131244, -0.6374239897486896, -0.6422526531765844, -0.6470559615694443, -0.6518337253008788, -0.6565857557529565, -0.661311865323652, -0.6660118674342518, -0.6706855765367199, -0.6753328081210244, -0.6799533787224191, -0.6845471059286887, -0.6891138083873485, -0.693653305812805, -0.6981654189934728, -0.7026499697988493, -0.7071067811865477, -0.7115356772092852, -0.7159364830218311, -0.7203090248879069, -0.7246531301870467, -0.7289686274214116, -0.7332553462225602, -0.737513117358174, -0.7417417727387394, -0.7459411454241821, -0.7501110696304595, -0.7542513807361038, -0.7583619152887222, -0.7624425110114479, -0.7664930068093496, -0.7705132427757894, -0.7745030601987337, -0.7784623015670236, -0.7823908105765881, -0.7862884321366191, -0.7901550123756904, -0.7939903986478356, -0.7977944395385711, -0.8015669848708764, -0.8053078857111221, -0.8090169943749473, -0.8126941644330942, -0.8163392507171839, -0.8199521093254526, -0.8235325976284275, -0.8270805742745616, -0.8305958991958127, -0.834078433613171, -0.8375280400421419, -0.840944582298169, -0.8443279255020153, -0.8476779360850832, -0.8509944817946921, -0.8542774316992952, -0.8575266561936521, -0.8607420270039438, -0.8639234171928352, -0.8670707011644903, -0.8701837546695256, -0.8732624548099204, -0.8763066800438636, -0.8793163101905564, -0.8822912264349534, -0.8852313113324551, -0.8881364488135446, -0.8910065241883678, -0.8938414241512639, -0.8966410367852359, -0.8994052515663712, -0.9021339593682028, -0.9048270524660194, -0.907484424541117, -0.9101059706849955, -0.9126915874035029, -0.9152411726209175, -0.9177546256839813, -0.9202318473658704, -0.922672739870115, -0.925077206834458, -0.9274451533346612, -0.9297764858882515, -0.9320711124582108, -0.9343289424566121, -0.9365498867481923, -0.9387338576538742, -0.9408807689542255, -0.9429905358928646, -0.9450630751798049, -0.9470983049947442, -0.9490961449902947, -0.9510565162951535, -0.9529793415172189, -0.954864544746643, -0.9567120515588307, -0.958521789017376, -0.9602936856769432, -0.9620276715860859, -0.9637236782900096, -0.965381638833274, -0.967001487762435, -0.9685831611286312, -0.9701265964901058, -0.9716317329146741, -0.9730985109821266, -0.9745268727865771, -0.9759167619387474, -0.9772681235681934, -0.9785809043254722, -0.9798550523842469, -0.9810905174433342, -0.9822872507286887, -0.9834452049953297, -0.9845643345292054, -0.9856445951489979, -0.9866859442078681, -0.9876883405951377, -0.9886517447379141, -0.9895761186026509, -0.9904614256966513, -0.9913076310695066, -0.9921147013144779, -0.9928826045698137, -0.9936113105200084, -0.9943007903969989, -0.9949510169813002, -0.99556196460308, -0.9961336091431725, -0.9966659280340299, -0.9971589002606139, -0.9976125063612252, -0.9980267284282716, -0.998401550108975, -0.9987369566060175, -0.9990329346781247, -0.9992894726405893, -0.9995065603657316, -0.9996841892833, -0.999822352380809, -0.9999210442038161, -0.9999802608561371, -1.0, -0.9999802608561371, -0.9999210442038161, -0.999822352380809, -0.9996841892832999, -0.9995065603657315, -0.9992894726405892, -0.9990329346781247, -0.9987369566060175, -0.998401550108975, -0.9980267284282716, -0.9976125063612252, -0.9971589002606139, -0.9966659280340299, -0.9961336091431725, -0.99556196460308, -0.9949510169813002, -0.9943007903969988, -0.9936113105200084, -0.9928826045698136, -0.9921147013144779, -0.9913076310695065, -0.9904614256966512, -0.989576118602651, -0.988651744737914, -0.9876883405951378, -0.986685944207868, -0.985644595148998, -0.9845643345292053, -0.9834452049953297, -0.9822872507286886, -0.9810905174433341, -0.979855052384247, -0.9785809043254721, -0.9772681235681935, -0.9759167619387473, -0.9745268727865771, -0.9730985109821264, -0.971631732914674, -0.9701265964901059, -0.9685831611286311, -0.9670014877624351, -0.9653816388332738, -0.9637236782900097, -0.9620276715860858, -0.9602936856769431, -0.9585217890173757, -0.9567120515588304, -0.9548645447466431, -0.9529793415172187, -0.9510565162951536, -0.9490961449902945, -0.9470983049947443, -0.9450630751798047, -0.9429905358928644, -0.9408807689542253, -0.9387338576538741, -0.9365498867481924, -0.9343289424566119, -0.9320711124582111, -0.9297764858882512, -0.9274451533346614, -0.9250772068344579, -0.9226727398701148, -0.9202318473658702, -0.917754625683981, -0.9152411726209176, -0.9126915874035028, -0.9101059706849958, -0.9074844245411168, -0.9048270524660196, -0.9021339593682026, -0.899405251566371, -0.896641036785236, -0.8938414241512637, -0.891006524188368, -0.8881364488135444, -0.8852313113324553, -0.8822912264349531, -0.8793163101905562, -0.8763066800438634, -0.8732624548099202, -0.8701837546695258, -0.8670707011644899, -0.8639234171928354, -0.8607420270039434, -0.8575266561936523, -0.8542774316992949, -0.8509944817946918, -0.8476779360850829, -0.844327925502015, -0.8409445822981693, -0.8375280400421415, -0.8340784336131712, -0.8305958991958124, -0.8270805742745618, -0.8235325976284271, -0.8199521093254523, -0.8163392507171842, -0.8126941644330938, -0.8090169943749476, -0.8053078857111218, -0.8015669848708766, -0.7977944395385708, -0.7939903986478354, -0.7901550123756901, -0.7862884321366188, -0.7823908105765883, -0.7784623015670232, -0.7745030601987339, -0.770513242775789, -0.7664930068093498, -0.7624425110114476, -0.7583619152887218, -0.7542513807361034, -0.7501110696304595, -0.7459411454241823, -0.741741772738739, -0.737513117358174, -0.7332553462225598, -0.7289686274214116, -0.7246531301870464, -0.7203090248879068, -0.7159364830218313, -0.7115356772092852, -0.7071067811865477, -0.702649969798849, -0.6981654189934727, -0.6936533058128047, -0.6891138083873485, -0.6845471059286883, -0.6799533787224191, -0.6753328081210246, -0.6706855765367199, -0.6660118674342518, -0.6613118653236516, -0.6565857557529565, -0.6518337253008785, -0.6470559615694443, -0.642252653176584, -0.6374239897486896, -0.6325701619131247, -0.6276913612907002, -0.6227877804881126, -0.6178596130903341, -0.6129070536529765, -0.607930297694605, -0.6029295416890247, -0.5979049830575184, -0.5928568201610591, -0.5877852522924734, -0.5826904796685758, -0.5775727034222677, -0.5724321255945906, -0.5672689491267565, -0.5620833778521301, -0.556875616488188, -0.5516458706284305, -0.5463943467342689, -0.541121252126876, -0.5358267949789963, -0.5305111843067342, -0.5251746299612954, -0.5198173426207094, -0.514439533781506, -0.5090414157503712, -0.503623201635761, -0.4981851053394906, -0.4927273415482917, -0.487250125725332, -0.4817536741017153, -0.47623820366793873, -0.4707039321653325, -0.46515107807745787, -0.4595798606214877, -0.45399049973954697, -0.448383216090032, -0.44275823103890166, -0.43711576665093255, -0.43145604568095897, -0.4257792915650722, -0.4200857284118062, -0.4143755809932844, -0.40864907473634887, -0.40290643571366286, -0.39714789063478034, -0.3913736668372025, -0.38558399227739615, -0.3797790955218011, -0.37395920573779995, -0.36812455268467786, -0.3622753667045459, -0.3564118787132505, -0.3505343201912592, -0.3446429231745167, -0.3387379202452914, -0.33281954452298623, -0.3268880296549424, -0.320943609807209, -0.31498651965530466, -0.3090169943749477, -0.3030352696327737, -0.29704158157703503, -0.2910361668282715, -0.28501926246997616, -0.2789911060392288, -0.27295193551732516, -0.26690198932037584, -0.2608415062898968, -0.2547707256833824, -0.2486898871648545, -0.24259923079540752, -0.2364989970237243, -0.23038942667659057, -0.2242707609493807, -0.21814324139654243, -0.2120071099220549, -0.2058626087698811, -0.1997099805144072, -0.19354946805085993, -0.18738131458572468, -0.18120576362713692, -0.175023058975276, -0.16883344471273334, -0.16263716519488344, -0.1564344650402311, -0.1502255891207568, -0.1440107825522523, -0.1377902906846377, -0.13156435909228253, -0.1253332335643038, -0.11909716009486966, -0.11285638487348111, -0.10661115427525973, -0.10036171485121509, -0.09410831331851403, -0.08785119655074328, -0.08159061156815715, -0.07532680552793272, -0.0690600257144053, -0.06279051952931326, -0.056518534482024804, -0.05024431817976934, -0.043968118317865075, -0.037690182669934215, -0.03141075907812836, -0.02513009544333705, -0.018848439715408137, -0.012566039883352071, -0.006283143965558805]\n"
     ]
    }
   ],
   "source": [
    "from math import sin, pi # Commentez ici\n",
    "\n",
    "fx = [] # Défini une liste de y vide\n",
    "x = []  # Défini une liste de x vide\n",
    "n = 1000   # Défini le nombre de points\n",
    "pas = 2*pi / n # Défini le pas suivant le nombre de points\n",
    "\n",
    "for i in range(0, n): # Boucle de 0 à n\n",
    "    x.append(i*pas) # Construit la liste de x\n",
    "    fx.append(sin(i*pas)) # Construit la liste de y\n",
    "\n",
    "print(x) # Affiche les valeurs de x\n",
    "print(fx) # Affiche les valeurs de y"
   ]
  },
  {
   "cell_type": "markdown",
   "id": "8da3b522",
   "metadata": {},
   "source": [
    "#### Q2. En vous aidant du code au début de l'exercice, affichez la courbe $f(x) = sin(x)$ dans l'intervalle $[0, 2\\pi]$"
   ]
  },
  {
   "cell_type": "code",
   "execution_count": 31,
   "id": "8e924d1a",
   "metadata": {},
   "outputs": [
    {
     "data": {
      "image/png": "[encoded data removed]",
      "text/plain": [
       "<Figure size 640x480 with 1 Axes>"
      ]
     },
     "metadata": {},
     "output_type": "display_data"
    }
   ],
   "source": [
    "import matplotlib.pyplot as plt\n",
    "\n",
    "fig, ax = plt.subplots() # Création de la figure (fig) et des axes (ax) de la figure\n",
    "ax.plot(x, fx)           # Création de la courbe sur les axes de la figure\n",
    "\n",
    "ax.set(xlabel='x', ylabel='f(x)', title='f(x) = 2x')  # Ajout de la légende des axes et d'un titre\n",
    "plt.show()  # Affichage de la figure "
   ]
  },
  {
   "cell_type": "markdown",
   "id": "cd797535",
   "metadata": {},
   "source": [
    "#### Q3. La courbe précédente ne ressemble pas beaucoup à la fonction sinus. Quel paramètre doit on modifier afin d'améliorer le tracer de la courbe ? Faites plusieurs essais."
   ]
  },
  {
   "cell_type": "code",
   "execution_count": null,
   "id": "e2c048c5",
   "metadata": {},
   "outputs": [],
   "source": [
    "\"\"\"C'est n, ducoup on le change de n=5 à n=1000 par exemple\"\"\""
   ]
  },
  {
   "cell_type": "markdown",
   "id": "058c4e7c",
   "metadata": {},
   "source": [
    "&nbsp;\n",
    "---\n",
    "---\n",
    "\n",
    "# Devoirs à faire avant la prochaine séance de TD\n",
    "### Faire les exercice 1 et 2 du TD3 sur papier"
   ]
  },
  {
   "cell_type": "markdown",
   "id": "8cc8631c-fcbb-48e2-88fd-cc156dfe0e83",
   "metadata": {},
   "source": [
    "&nbsp;\n",
    "---\n",
    "---\n",
    "# Pour s'entrainer\n",
    "\n",
    "## Exercice A\n",
    "\n",
    "<u> Notion </u> : définition et utilisation de fonction, importation de module, liste\n",
    "\n",
    "On souhaite définir une fonction `distance(a, b)` qui renvoie la distance Euclidienne entre les points `a` et `b` tels que `a` et `b` sont des listes d'entiers représentant les coordonnées des points d'un espace à 2 dimensions.\n",
    "\n",
    "Par exemple: \n",
    "\n",
    "`a = [0, 0]`  \n",
    "`b = [5, 3]`\n",
    "\n",
    "Avec ces deux points, on devrait obtenir `distance(a,b)=5.83` (arrondi)\n",
    "\n",
    "#### Q1. Écrivez le code définissant la fonction `distance`."
   ]
  },
  {
   "cell_type": "code",
   "execution_count": 33,
   "id": "f4a852e3",
   "metadata": {},
   "outputs": [
    {
     "name": "stdout",
     "output_type": "stream",
     "text": [
      "5.83\n"
     ]
    }
   ],
   "source": [
    "from math import sqrt\n",
    "\n",
    "def distance(a, b):\n",
    "    return round(sqrt((a[0]-b[0])**2 + (a[1]-b[1])**2),2)\n",
    "\n",
    "a = [0, 0]\n",
    "b = [5, 3]\n",
    "print(distance(a, b))"
   ]
  },
  {
   "cell_type": "markdown",
   "id": "2d356de4-665d-422f-a529-d1ea02344511",
   "metadata": {},
   "source": [
    "--- \n",
    "Le module [math](https://docs.python.org/fr/3/library/math.html) de la bibliothèque standard de Python contient en fait déjà une fonction `dist` qui permet de renvoyer la distance Euclidienne entre  deux points d'un espace à $n$ dimensions ($n>1$). Contrairement à votre code précédent, cette fonction peut être utilisée sur des points dans un espace $3D$ par exemple."
   ]
  },
  {
   "cell_type": "markdown",
   "id": "5a2c2f22-0353-4266-9ff7-39ef0d0f87b5",
   "metadata": {
    "tags": []
   },
   "source": [
    "#### Q2. Utilisez la fonction `dist` afin d'afficher la distance entre les points suivants :\n",
    "- `a = [0, 0] et b = [5, 3]`   # Résultat attendu : 5.830951894845301\n",
    "- `a = [0, 0, 0] et b = [5, 3, -2]`  # Résultat attendu : 6.164414002968976"
   ]
  },
  {
   "cell_type": "code",
   "execution_count": 34,
   "id": "1d94b9ca",
   "metadata": {},
   "outputs": [
    {
     "name": "stdout",
     "output_type": "stream",
     "text": [
      "5.830951894845301\n",
      "6.164414002968976\n"
     ]
    }
   ],
   "source": [
    "from math import dist\n",
    "\n",
    "print(dist([0, 0], [5, 3]))\n",
    "print(dist([0, 0, 0], [5, 3, -2]))"
   ]
  },
  {
   "cell_type": "markdown",
   "id": "e0d8e908",
   "metadata": {},
   "source": [
    "&nbsp;\n",
    "---\n",
    "---\n",
    "&nbsp;\n",
    "## Exercice B\n",
    "\n",
    "\n",
    "Soit la fonction à 2 variables définie par : $f(x,y) = 3x^2 + y - 1$. \n",
    "On souhaite définir une fonction nommée `ma_fonction` permettant de calculer l'image de $f$ pour n'importe quelles valeurs de $x$ et $y$.\n",
    "\n",
    "\n",
    "#### Q2. Écrivez le code permettant de réaliser cela et testez le sur les 4 exemples suivants en utilisant le modèle de code ci-dessous.\n",
    "\n",
    "- $x=0$ et  $y=0$ ; $f(x,y)=-1$\n",
    "- $x=0$ et  $y=1$ ; $f(x,y)=0$\n",
    "- $x=1$ et  $y=0$ ; $f(x,y)=2$\n",
    "- $x=2$ et  $y=2$ ; $f(x,y)=13$"
   ]
  },
  {
   "cell_type": "code",
   "execution_count": 36,
   "id": "08f03950",
   "metadata": {},
   "outputs": [
    {
     "name": "stdout",
     "output_type": "stream",
     "text": [
      "Pour x = 0 et y = 0 (attendu -1) : -1\n",
      "Pour x = 0 et y = 1 (attendu 0) : 0\n",
      "Pour x = 1 et y = 0 (attendu 2) : 2\n",
      "Pour x = 2 et y = 2 (attendu 13) : 13\n"
     ]
    }
   ],
   "source": [
    "# Modèle de code pour tester la fonction :\n",
    "def ma_fonction(x, y):\n",
    "    return 3*x**2 + y -1\n",
    "\n",
    "print(f\"Pour x = 0 et y = 0 (attendu -1) : {ma_fonction(0,0)}\")\n",
    "print(f\"Pour x = 0 et y = 1 (attendu 0) : {ma_fonction(0,1)}\")\n",
    "print(f\"Pour x = 1 et y = 0 (attendu 2) : {ma_fonction(1,0)}\")\n",
    "print(f\"Pour x = 2 et y = 2 (attendu 13) : {ma_fonction(2,2)}\")\n"
   ]
  },
  {
   "cell_type": "markdown",
   "id": "56fb3631",
   "metadata": {},
   "source": [
    "&nbsp;\n",
    "---\n",
    "---\n",
    "&nbsp;\n",
    "## Exercice C - Conditions et fonctions - Calcul des impôts\n",
    "\n",
    "**<u>Notions</u>** : enchaînement de conditionnelles, fonction, test de code avec fonction\n",
    "\n",
    "On veut calculer le montant d’un impôt à partir du montant de revenus annuels $R$ et du nombre de personnes (parts) d'un foyer $N$. On fera l'hypothèse que $R$ et $N$ sont toujours strictement positifs.\n",
    "\n",
    "La formule pour calculer le montant de l'impôt est la suivante (les chiffres sont fantaisistes) :\n",
    "\n",
    "* pour $R/N$ compris entre 0 et 20000 €, l’impôt est de $R\\times 0,125 - 50\\times N$ ;\n",
    "* pour $R/N$ compris entre 20000 et 30000 €, l’impôt est de $R\\times 0,25 - 100\\times N$ ;\n",
    "* pour $R/N$ au dessus de 30000 €, l’impôt est de $R\\times 0,5 - 200\\times N$.\n",
    "\n",
    "En s’appuyant sur ce mode de calcul, le tableau suivant donne le montant de l’impôt pour différents cas et vous permettra de vérifier les résultats obtenus.\n",
    "\n",
    "| R | N | Impôt (€) |\n",
    "|--|--|--|\n",
    "|25 000|2|3 025|\n",
    "|80 000|3|19 700|\n",
    "|130 000|4|64 200|\n",
    "\n",
    "#### Q1. Complétez le code ci dessous pour obtenir un programme calculant le montant de cet impôt quelles que soient les valeurs de $R$ et $N$. Tester ce code à l'aide des valeurs données ci-dessus."
   ]
  },
  {
   "cell_type": "code",
   "execution_count": null,
   "id": "d5b0f13c",
   "metadata": {},
   "outputs": [
    {
     "name": "stdout",
     "output_type": "stream",
     "text": [
      "3025.0\n"
     ]
    }
   ],
   "source": [
    "# Init des variables\n",
    "revenu = 25_000\n",
    "nb_parts = 2\n",
    "ratio = revenu / nb_parts\n",
    "\n",
    "impots = 0\n",
    "\n",
    "if 0 < ratio < 20_000:\n",
    "    impots = revenu * 0.125 - 50 * nb_parts\n",
    "elif ratio < 30_000:\n",
    "    impots = revenu * 0.25 - 100 * nb_parts\n",
    "else:\n",
    "    impots = revenu * 0.5 - 200 * nb_parts\n",
    "\n",
    "print(impots)  "
   ]
  },
  {
   "cell_type": "markdown",
   "id": "1a546d83",
   "metadata": {},
   "source": [
    "---\n",
    "\n",
    "#### Q2. Dans la cellule ci-dessous, définissez la fonction `calcul_impot(revenu, nb_parts)` qui calcule et renvoie le montant de l'impôt d'un foyer de `nb_parts` personnes et ayant un revenu `revenu`."
   ]
  },
  {
   "cell_type": "code",
   "execution_count": 3,
   "id": "f8b67820",
   "metadata": {},
   "outputs": [],
   "source": [
    "def calcul_impot(revenu, nb_parts):\n",
    "    ratio = revenu / nb_parts\n",
    "    impots = 0\n",
    "\n",
    "    if 0 < ratio < 20_000:\n",
    "        impots = revenu * 0.125 - 50 * nb_parts\n",
    "    elif ratio < 30_000:\n",
    "        impots = revenu * 0.25 - 100 * nb_parts\n",
    "    else:\n",
    "        impots = revenu * 0.5 - 200 * nb_parts\n",
    "    \n",
    "    return impots"
   ]
  },
  {
   "cell_type": "markdown",
   "id": "910e0f87",
   "metadata": {},
   "source": [
    "---\n",
    "#### Q3. En utilisant la fonction précédente, complétez le code suivant afin de tester le calcul de l'impot sur les 3 cas donnés dans le tableau au début de l'exercice. Les \"XXX\" sont à remplacer."
   ]
  },
  {
   "cell_type": "code",
   "execution_count": 4,
   "id": "65e9b7b4",
   "metadata": {},
   "outputs": [
    {
     "name": "stdout",
     "output_type": "stream",
     "text": [
      "revenu : 25000 - nombre de parts : 2, le montant de l'impôt vaut : 3087.5\n",
      "revenu : 80000 - nombre de parts : 3, le montant de l'impôt vaut : 19700.0\n",
      "revenu : 130000 - nombre de parts : 4, le montant de l'impôt vaut : 64200.0\n"
     ]
    }
   ],
   "source": [
    "# Tests\n",
    "print(f\"revenu : 25000 - nombre de parts : 2, le montant de l'impôt vaut : {calcul_impot(25_500, 2)}\")\n",
    "print(f\"revenu : 80000 - nombre de parts : 3, le montant de l'impôt vaut : {calcul_impot(80_000, 3)}\")\n",
    "print(f\"revenu : 130000 - nombre de parts : 4, le montant de l'impôt vaut : {calcul_impot(130_000, 4)}\")"
   ]
  },
  {
   "cell_type": "markdown",
   "id": "61b16e0c-b5d2-48d4-845d-89ef1eb5dc30",
   "metadata": {},
   "source": [
    "&nbsp;\n",
    "---\n",
    "---\n",
    "&nbsp;\n",
    "## Exercice D - Boucles\n",
    "\n",
    "#### Q1. Soit $a$ et $b$ deux entiers quelconques. Ecrivez un programme affichant le plus petit entier multiple à la fois de $a$ et $b$."
   ]
  },
  {
   "cell_type": "code",
   "execution_count": null,
   "id": "f6d962ea",
   "metadata": {},
   "outputs": [
    {
     "name": "stdout",
     "output_type": "stream",
     "text": [
      "60\n"
     ]
    }
   ],
   "source": [
    "a, b = 5, 12\n",
    "n = 1\n",
    "\n",
    "while n % a != 0 or n % b != 0:\n",
    "    n += 1\n",
    "\n",
    "print(n)"
   ]
  },
  {
   "cell_type": "markdown",
   "id": "466f73f7",
   "metadata": {},
   "source": [
    "#### Q2. Ecrire une fonction `impairs` qui renvoie la liste de tous les entiers impairs dans un intervalle [a,b]."
   ]
  },
  {
   "cell_type": "code",
   "execution_count": 18,
   "id": "1942fa2c",
   "metadata": {},
   "outputs": [
    {
     "name": "stdout",
     "output_type": "stream",
     "text": [
      "[3, 5, 7, 9, 11, 13, 15, 17, 19]\n",
      "[1, 3, 5]\n"
     ]
    }
   ],
   "source": [
    "def impairs(a, b):\n",
    "    l = []\n",
    "    for i in range(a, b + 1):\n",
    "        if i % 2 == 1:\n",
    "            l.append(i)\n",
    "    return l\n",
    "\n",
    "print(impairs(2, 20))\n",
    "print(impairs(1, 5))"
   ]
  }
 ],
 "metadata": {
  "kernelspec": {
   "display_name": "Python 3",
   "language": "python",
   "name": "python3"
  },
  "language_info": {
   "codemirror_mode": {
    "name": "ipython",
    "version": 3
   },
   "file_extension": ".py",
   "mimetype": "text/x-python",
   "name": "python",
   "nbconvert_exporter": "python",
   "pygments_lexer": "ipython3",
   "version": "3.12.10"
  }
 },
 "nbformat": 4,
 "nbformat_minor": 5
}
