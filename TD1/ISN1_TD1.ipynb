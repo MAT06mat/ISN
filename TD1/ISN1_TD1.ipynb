{
 "cells": [
  {
   "cell_type": "markdown",
   "id": "e810d398",
   "metadata": {},
   "source": [
    "# <center>ISN1 TD1 - Introduction Python<center>"
   ]
  },
  {
   "cell_type": "markdown",
   "id": "50735952",
   "metadata": {},
   "source": [
    "L'objectif de ce TD est de lire et écrire des programmes [Python](https://docs.python.org/fr/3/reference/) simples et de prendre en main l'environnement [Jupyter Notebook](https://jupyter.org/).\n",
    "\n",
    "#### Compétences visées\n",
    "- Déclarer et initialiser des variables de type numérique (entier, flottant...)\n",
    "- Afficher des chaînes de caractères simples et contenant des expressions avec une \"fstring\"\n",
    "- Manipuler des listes\n",
    "- Évaluer des expressions numériques (et booléennes) en tenant compte des priorités entre opérateurs en Python\n",
    "- Importer une fonction du module math\n",
    "\n",
    "#### Diapos de support au TD :\n",
    "- [Diapos moodle](https://moodle.insa-lyon.fr/mod/resource/view.php?id=199445)"
   ]
  },
  {
   "cell_type": "markdown",
   "id": "96381d07",
   "metadata": {},
   "source": [
    "---\n",
    "***\n",
    "# Exercice 1 - Lecture de programmes\n",
    "\n",
    "Avant de commencer, activez l'affichage des numéros de ligne: dans le menu <b>\"Voir/Affichage\"</b> (ou <b>\"View\"</b>), cliquez sur <b>\"Afficher/cacher les numéros de ligne\"</b> (ou <b>\"Toggle line numbers\"</b>).\n",
    "\n",
    "### Partie 1\n",
    "\n",
    "<u>Notions</u> : séquence d'instructions, variable, affectation, expression numérique, `print`, `print(f\"...\")`, appel de fonction\n"
   ]
  },
  {
   "cell_type": "markdown",
   "id": "0602dd4a",
   "metadata": {},
   "source": [
    "#### Q1. Lisez le code suivant et commentez chaque ligne en indiquant ce qu'elle fait et le résultat d'affichage le cas échéant. Attention, vous ne devez pas exécuter la cellule"
   ]
  },
  {
   "cell_type": "code",
   "execution_count": 1,
   "id": "d338aba6-ba2c-4e91-aa0a-ebe4b3bbae76",
   "metadata": {
    "tags": []
   },
   "outputs": [
    {
     "name": "stdout",
     "output_type": "stream",
     "text": [
      "Résultat :\n",
      "26\n",
      "L'image de 8 par la fonction f(x) = 3x+2 est 26\n",
      "L'image de 8 par la fonction g(x) = 3x^2 est 192\n"
     ]
    }
   ],
   "source": [
    "# Initialise la variable x à 8\n",
    "x = 8 \n",
    "\n",
    "# Initialise la variable fx à 3*x + 2 donc à 26\n",
    "fx = 3*x + 2 \n",
    "\n",
    "# Affiche le texte \"Résultat :\"\n",
    "print(\"Résultat :\") \n",
    "\n",
    "# Affiche la variable fx, donc 26\n",
    "print(fx) \n",
    "\n",
    "# Affiche la phrase en remplaçant {x} par le contenu de la variable x et {fx} par le contenu de la variable fx\n",
    "print(f\"L'image de {x} par la fonction f(x) = 3x+2 est {fx}\" )\n",
    "\n",
    "# Initialise la variable gx à 3 * x², donc 192\n",
    "gx = 3 * x**2 \n",
    "\n",
    "# Affiche la même phrase qu'avant mais avec x et gx\n",
    "print(f\"L'image de {x} par la fonction g(x) = 3x^2 est {gx}\" )\n"
   ]
  },
  {
   "cell_type": "markdown",
   "id": "27666292-b964-442c-9a39-1001b39054d6",
   "metadata": {},
   "source": [
    "#### Q2. Exécutez la cellule de code précédente et comparez le résultat avec ce que vous aviez prédit"
   ]
  },
  {
   "cell_type": "markdown",
   "id": "959c2b9d",
   "metadata": {},
   "source": [
    "#### Q3. Prédire le résultat de l'exécution des cellules ci-dessous sans les exécuter. Vérifiez une fois prédit"
   ]
  },
  {
   "cell_type": "code",
   "execution_count": 2,
   "id": "d71cb0ab",
   "metadata": {},
   "outputs": [
    {
     "name": "stdout",
     "output_type": "stream",
     "text": [
      "2\n"
     ]
    },
    {
     "ename": "NameError",
     "evalue": "name 'y' is not defined",
     "output_type": "error",
     "traceback": [
      "\u001b[0;31m---------------------------------------------------------------------------\u001b[0m",
      "\u001b[0;31mNameError\u001b[0m                                 Traceback (most recent call last)",
      "\u001b[0;32m/tmp/ipykernel_26588/3441570958.py\u001b[0m in \u001b[0;36m<module>\u001b[0;34m\u001b[0m\n\u001b[1;32m      1\u001b[0m \u001b[0mx\u001b[0m \u001b[0;34m=\u001b[0m \u001b[0;36m2\u001b[0m\u001b[0;34m\u001b[0m\u001b[0;34m\u001b[0m\u001b[0m\n\u001b[1;32m      2\u001b[0m \u001b[0mprint\u001b[0m\u001b[0;34m(\u001b[0m\u001b[0mx\u001b[0m\u001b[0;34m)\u001b[0m\u001b[0;34m\u001b[0m\u001b[0;34m\u001b[0m\u001b[0m\n\u001b[0;32m----> 3\u001b[0;31m \u001b[0mx\u001b[0m \u001b[0;34m=\u001b[0m \u001b[0mx\u001b[0m \u001b[0;34m+\u001b[0m \u001b[0my\u001b[0m\u001b[0;34m\u001b[0m\u001b[0;34m\u001b[0m\u001b[0m\n\u001b[0m\u001b[1;32m      4\u001b[0m \u001b[0mprint\u001b[0m\u001b[0;34m(\u001b[0m\u001b[0mx\u001b[0m\u001b[0;34m)\u001b[0m\u001b[0;34m\u001b[0m\u001b[0;34m\u001b[0m\u001b[0m\n\u001b[1;32m      5\u001b[0m \u001b[0;34m\u001b[0m\u001b[0m\n",
      "\u001b[0;31mNameError\u001b[0m: name 'y' is not defined"
     ]
    }
   ],
   "source": [
    "x = 2\n",
    "print(x)\n",
    "x = x + y\n",
    "print(x)\n",
    "\n",
    "# 2\n",
    "# Error 'y' is not defined "
   ]
  },
  {
   "cell_type": "code",
   "execution_count": 41,
   "id": "aef82424",
   "metadata": {},
   "outputs": [
    {
     "ename": "TypeError",
     "evalue": "unsupported operand type(s) for +: 'int' and 'str'",
     "output_type": "error",
     "traceback": [
      "\u001b[0;31m---------------------------------------------------------------------------\u001b[0m",
      "\u001b[0;31mTypeError\u001b[0m                                 Traceback (most recent call last)",
      "\u001b[0;32m/tmp/ipykernel_26588/3194558157.py\u001b[0m in \u001b[0;36m<module>\u001b[0;34m\u001b[0m\n\u001b[0;32m----> 1\u001b[0;31m \u001b[0mx\u001b[0m \u001b[0;34m=\u001b[0m \u001b[0;36m3\u001b[0m \u001b[0;34m+\u001b[0m \u001b[0;34m\"4\"\u001b[0m\u001b[0;34m\u001b[0m\u001b[0;34m\u001b[0m\u001b[0m\n\u001b[0m\u001b[1;32m      2\u001b[0m \u001b[0mprint\u001b[0m\u001b[0;34m(\u001b[0m\u001b[0mx\u001b[0m\u001b[0;34m)\u001b[0m\u001b[0;34m\u001b[0m\u001b[0;34m\u001b[0m\u001b[0m\n\u001b[1;32m      3\u001b[0m \u001b[0;34m\u001b[0m\u001b[0m\n\u001b[1;32m      4\u001b[0m \u001b[0;31m# Error canot concatenate int and str\u001b[0m\u001b[0;34m\u001b[0m\u001b[0;34m\u001b[0m\u001b[0m\n",
      "\u001b[0;31mTypeError\u001b[0m: unsupported operand type(s) for +: 'int' and 'str'"
     ]
    }
   ],
   "source": [
    "x = 3 + \"4\"\n",
    "print(x)\n",
    "\n",
    "# Error canot concatenate int and str"
   ]
  },
  {
   "cell_type": "code",
   "execution_count": 4,
   "id": "97c6d3c1",
   "metadata": {},
   "outputs": [
    {
     "name": "stdout",
     "output_type": "stream",
     "text": [
      "le prix est {res} euros\n"
     ]
    }
   ],
   "source": [
    "res = 10\n",
    "print(\"le prix est {res} euros\")\n",
    "\n",
    "# le prix est {res} euros"
   ]
  },
  {
   "cell_type": "markdown",
   "id": "d3f5bd03-2827-4325-a1df-0d572e26edd0",
   "metadata": {},
   "source": [
    "\n",
    "#### Q4. Effectuez les modifications suivantes dans la cellule ci-dessous, et vérifier les résultats\n",
    "- Affectez la valeur 4 à la variable `x`\n",
    "- Changez la définition de `fx` pour l'expression numérique $\\dfrac{3 - x}{2}$ et `gx` pour $|2x - x^2|$ (cf [abs()](https://docs.python.org/fr/3/library/functions.html#abs))\n",
    "\n",
    "Affichage attendu:\n",
    "\n",
    "`L'image de 4 par la fonction f(x) est -0.5`  \n",
    "`L'image de 4 par la fonction g(x) est 8`  "
   ]
  },
  {
   "cell_type": "code",
   "execution_count": 5,
   "id": "d9e2a358-c613-43dd-a711-9f4ea79c3c94",
   "metadata": {},
   "outputs": [
    {
     "name": "stdout",
     "output_type": "stream",
     "text": [
      "Résultat :\n",
      "-0.5\n",
      "L'image de 4 par la fonction f(x) est -0.5\n",
      "L'image de 4 par la fonction g(x) est 8\n"
     ]
    }
   ],
   "source": [
    "x = 4\n",
    "fx = (3 - x) / 2 \n",
    "print(\"Résultat :\") \n",
    "print(fx) \n",
    "\n",
    "print(f\"L'image de {x} par la fonction f(x) est {fx}\" )\n",
    "\n",
    "gx = abs(2 * x - x**2)\n",
    "print(f\"L'image de {x} par la fonction g(x) est {gx}\" )"
   ]
  },
  {
   "cell_type": "markdown",
   "id": "fa8b7c4c",
   "metadata": {},
   "source": [
    "#### Q5. Répondez aux questions suivantes:\n",
    "\n",
    "Dans le programme précédent :\n",
    "\n",
    "1. Quelles sont les VARIABLES ? \n",
    "x, fx, gx"
   ]
  },
  {
   "cell_type": "markdown",
   "id": "150dd186",
   "metadata": {},
   "source": [
    "2. Citez des EXPRESSIONS numériques présentes.\n",
    "4, (3 - x) / 2, abs(2 * x - x**2)"
   ]
  },
  {
   "cell_type": "markdown",
   "id": "44c11ada",
   "metadata": {},
   "source": [
    "3. Quels sont les OPERATEURS arithmétiques utilisés ?\n",
    "-, *, /, **"
   ]
  },
  {
   "cell_type": "markdown",
   "id": "9f986f2b",
   "metadata": {},
   "source": [
    "4. Quelles sont les lignes où sont réalisées des AFFECTATIONS ?\n",
    "1, 2, 8"
   ]
  },
  {
   "cell_type": "markdown",
   "id": "d56e7fb0",
   "metadata": {},
   "source": [
    "5. Quelle(s) fonction(s) sont utilisées ? \n",
    "print, abs"
   ]
  },
  {
   "cell_type": "markdown",
   "id": "b032fe1c",
   "metadata": {},
   "source": [
    "6. Donner un exemple de fstring: \n",
    "nom = \"Bob\"\n",
    "print(f\"Je suis {nom}\")\n",
    "\n",
    "-> l6, l9"
   ]
  },
  {
   "cell_type": "markdown",
   "id": "ac2067d3-70da-4319-b0bc-0ce8d284ef02",
   "metadata": {
    "tags": []
   },
   "source": [
    "---\n",
    "\n",
    "### Partie 2\n",
    "<u>Notions</u> : expression numérique, expression booléenne\n",
    "\n",
    "#### Q6. Sans exécuter le code, déterminer le type de chacune des 5 expressions suivantes (numérique ou booléenne)"
   ]
  },
  {
   "cell_type": "code",
   "execution_count": 6,
   "id": "31e83f57-d9f7-4e1e-b1a7-5d9757ccb2b4",
   "metadata": {
    "tags": []
   },
   "outputs": [
    {
     "name": "stdout",
     "output_type": "stream",
     "text": [
      "9\n",
      "False\n",
      "False\n",
      "3.0\n",
      "True\n"
     ]
    }
   ],
   "source": [
    "x = 5\n",
    "y = 2\n",
    "z = True\n",
    "\n",
    "exp1 = x + 2**y\n",
    "exp2 = y > x\n",
    "exp3 = z and y > x\n",
    "exp4 = y + 2 / 2\n",
    "exp5 = z or False and x == y\n",
    "\n",
    "print(exp1)\n",
    "print(exp2)\n",
    "print(exp3)\n",
    "print(exp4)\n",
    "print(exp5)\n",
    "\n",
    "# exp1 => int\n",
    "# exp2 => bool\n",
    "# exp3 => bool\n",
    "# exp4 => float\n",
    "# exp5 => bool\n",
    "\n",
    "# exp1 => 9\n",
    "# exp2 => False\n",
    "# exp3 => False\n",
    "# exp4 => 3.0\n",
    "# exp5 => True"
   ]
  },
  {
   "cell_type": "markdown",
   "id": "9a084642",
   "metadata": {},
   "source": [
    "#### Q7. Toujours sans exécuter le code, évaluez les expressions précédentes. Vérifiez ensuite le résultat en l'exécutant. Que pouvez-vous conclure sur l'ordre de priorités des opérateurs?"
   ]
  },
  {
   "cell_type": "markdown",
   "id": "3a9dab17",
   "metadata": {},
   "source": [
    "---\n",
    "### Partie 3\n",
    "<u>Notions</u> : affichage de liste, accès/ajout/modificaton d'un élément dans une liste\n",
    "\n",
    "#### Q8. Lisez le code suivant et commentez chaque ligne en indiquant ce qu'elle fait et le résultat d'affichage le cas échéant. Attention, vous ne devez pas exécuter la cellule\n",
    "\n",
    "#### Q9. Exécutez la cellule et comparez le résultat avec ce que vous aviez prédit"
   ]
  },
  {
   "cell_type": "code",
   "execution_count": 7,
   "id": "c1ba738a",
   "metadata": {},
   "outputs": [
    {
     "name": "stdout",
     "output_type": "stream",
     "text": [
      "[10, 9, 12, 15, 24, 27, 30, 29]\n",
      "10\n",
      "[10, 9, 12, 15, 24, 27, 30, 29, 21]\n"
     ]
    }
   ],
   "source": [
    "# Liste des moyennes de températures relevées à Lyon  janvier 2022 - aout 2022\n",
    "# Défini la variable l_temp avec une liste contenant uniquement des int => [10, 9, 12, 15, 24, 27, 30, 29]\n",
    "l_temp = [10, 9, 12, 15, 24, 27, 30, 29]\n",
    "\n",
    "# Affiche cette liste\n",
    "print(l_temp)\n",
    "\n",
    "# Ajoute le nombre 20 à la fin de la liste\n",
    "l_temp.append(20) \n",
    "\n",
    "# Affiche le premier élément de la liste => 10\n",
    "print(l_temp[0])\n",
    "\n",
    "# Change le 9ème élément de la liste par 21 (20 => 21)\n",
    "l_temp[8] = 21\n",
    "\n",
    "# Affiche [10, 9, 12, 15, 24, 27, 30, 29, 21]\n",
    "print(l_temp)\n"
   ]
  },
  {
   "cell_type": "markdown",
   "id": "7509f7d9",
   "metadata": {},
   "source": [
    "#### Q10. Répondez aux questions suivantes :\n",
    "\n",
    "Dans le programme précédent :\n",
    "\n",
    "1. À quelle ligne une VARIABLE de type LISTE est-elle définie ? \n",
    "\n",
    "l15"
   ]
  },
  {
   "cell_type": "markdown",
   "id": "c0e1ee9b",
   "metadata": {},
   "source": [
    "2. À quelle ligne une valeur est-elle AJOUTEE à la liste ? \n",
    "\n",
    "l9"
   ]
  },
  {
   "cell_type": "markdown",
   "id": "f3b3d5aa",
   "metadata": {},
   "source": [
    "3. Quelle(s) ligne(s) modifie(nt) le contenu de la liste ? \n",
    "\n",
    "l9, l15\n"
   ]
  },
  {
   "cell_type": "markdown",
   "id": "65dc06d8",
   "metadata": {},
   "source": [
    "&nbsp;\n",
    "---\n",
    "---\n",
    "&nbsp;\n",
    "# Exercice 2 : Écriture de code\n",
    "\n",
    "<u> Notion </u> : affectation, expression numérique, définition et accès à un élément d'une liste\n"
   ]
  },
  {
   "cell_type": "markdown",
   "id": "3aaec132",
   "metadata": {},
   "source": [
    "Soit le polynôme : $3 x^2 + 4 x + 1$.\n",
    "\n",
    "#### Q1. Écrivez le code permettant de calculer et afficher la valeur de ce polynôme pour une valeur x donnée. Votre programme doit définir et utiliser la variable `x`\n",
    "\n",
    "Par exemple, pour la valeur 0, votre programme doit afficher :\n",
    "\n",
    "`La valeur du polynome en 0 est : 1`"
   ]
  },
  {
   "cell_type": "code",
   "execution_count": 8,
   "id": "60aaff39-770f-4d0c-bc57-a636a2bab11a",
   "metadata": {},
   "outputs": [
    {
     "name": "stdout",
     "output_type": "stream",
     "text": [
      "1\n"
     ]
    }
   ],
   "source": [
    "def f(x):\n",
    "    return 3*x**2 + 4*x + 1\n",
    "\n",
    "print(f(0))"
   ]
  },
  {
   "cell_type": "markdown",
   "id": "7fba19c6",
   "metadata": {},
   "source": [
    "&nbsp;&nbsp;\n",
    "\n",
    "On représente un polynome du second degré par la liste de ses coefficients. Par exemple, le polynome $3 x^2 + 4 x + 1$ est représenté par la liste : `[3, 4, 1]`.\n",
    "\n",
    "#### Q2. Écrivez le code permettant de calculer et afficher la valeur du polynôme pour une valeur x donnée en tenant compte de cette représentation du polynome. En particulier vous devrez créer et utiliser une liste `poly` contenant la liste des coefficients"
   ]
  },
  {
   "cell_type": "code",
   "execution_count": 29,
   "id": "0953ae5b-7dfe-4cf5-a674-d9addd4dbd1a",
   "metadata": {},
   "outputs": [
    {
     "name": "stdout",
     "output_type": "stream",
     "text": [
      "1\n"
     ]
    }
   ],
   "source": [
    "poly = [3, 4, 1]\n",
    "\n",
    "def f(x, coefs):\n",
    "    result = 0\n",
    "    \n",
    "    for i in range(len(coefs)):\n",
    "        result += coefs[i] * x ** (len(coefs) - i - 1)\n",
    "    \n",
    "    return result\n",
    "\n",
    "print(f(0, poly))"
   ]
  },
  {
   "cell_type": "markdown",
   "id": "bd3c66c9",
   "metadata": {},
   "source": [
    "&nbsp;\n",
    "\n",
    "---\n",
    "&nbsp;\n",
    "\n",
    "# Exercice 3 - Importation de module\n",
    "\n",
    "## Partie 1\n",
    "<u> Notion </u> : Lecture d'erreur et importation de module\n"
   ]
  },
  {
   "cell_type": "markdown",
   "id": "b8ca2053-1ef2-478a-af51-ad88b4c4a0a0",
   "metadata": {
    "tags": []
   },
   "source": [
    "#### Q1. Exécutez la cellule suivante et essayez de comprendre l'erreur qui s'affiche. Puis, corrigez le programme pour qu'il fonctionne correctement"
   ]
  },
  {
   "cell_type": "code",
   "execution_count": 27,
   "id": "f8a77a5a",
   "metadata": {
    "scrolled": true
   },
   "outputs": [
    {
     "name": "stdout",
     "output_type": "stream",
     "text": [
      "Pour les longueurs 5 cm et 22 cm l'hypothénuse vaut : 22.56 cm\n"
     ]
    }
   ],
   "source": [
    "from math import sqrt\n",
    "\n",
    "longueur_1 = 5\n",
    "longueur_2 = 22\n",
    "hypotenuse = sqrt(longueur_1**2 + longueur_2**2)\n",
    "\n",
    "print(f\"Pour les longueurs {longueur_1} cm et {longueur_2} cm l'hypothénuse vaut : {hypotenuse:.2f} cm\")"
   ]
  },
  {
   "cell_type": "markdown",
   "id": "4da14fb3-6cce-4eb3-989d-fcbc88f3312d",
   "metadata": {},
   "source": [
    "## Partie 2\n",
    "\n",
    "<u> Notion </u> : lecture de documentation et utilisation de fonctions du module [math](https://docs.python.org/fr/3/library/math.html).\n",
    "\n",
    "Soit les fonctions suivantes:\n",
    "\n",
    "$$ f(x) = \\frac{\\mathrm{exp}(x^2)}{5} $$\n",
    "&nbsp;\n",
    "$$ g(x) = \\cos(\\pi x)$$\n",
    "\n",
    "Allez sur la page de documentation du module [math](https://docs.python.org/fr/3/library/math.html) de la la bibliothèque standard de Pyton.\n",
    "\n",
    "#### Q2. En utilisant les fonctions et constantes du module [math](https://docs.python.org/fr/3/library/math.html), créez deux variables `f` et `g` stockant la valeur de $f(x)$ et $g(x)$ pour la valeur de `x` en début du code suivant."
   ]
  },
  {
   "cell_type": "markdown",
   "id": "572048e2",
   "metadata": {},
   "source": [
    "Résultat attendu: f(5)=14400979867.477177 et g(5)=-1.0"
   ]
  },
  {
   "cell_type": "code",
   "execution_count": 28,
   "id": "7abb737b-2c05-440d-b9c8-fe8f6f4a7aed",
   "metadata": {
    "tags": []
   },
   "outputs": [
    {
     "name": "stdout",
     "output_type": "stream",
     "text": [
      "f(5)=14400979867.477177 et g(5)=-1.0\n"
     ]
    }
   ],
   "source": [
    "from math import exp, cos, pi\n",
    "\n",
    "x = 5 # Valeur quelconque\n",
    "\n",
    "fx = (exp(x**2) / 5)\n",
    "gx = cos(pi*x)\n",
    "\n",
    "print(f\"f({x})={fx} et g({x})={gx}\")"
   ]
  },
  {
   "cell_type": "markdown",
   "id": "21505882-59c1-44aa-842f-0f92f40b6781",
   "metadata": {
    "tags": []
   },
   "source": [
    "&nbsp;\n",
    "---\n",
    "---\n",
    "# Devoirs à faire avant la prochaine séance de TD\n",
    "\n",
    "## Exercice A\n",
    "\n",
    "#### Q1. Soit la variable x initialisée à une valeur quelconque (par exemple 3), écrivez le code permettant d'afficher le texte `quand x = 3 alors 2x = 6`. \n"
   ]
  },
  {
   "cell_type": "code",
   "execution_count": 31,
   "id": "e9f7e91d-b0d7-4925-b6a6-7dfcc98fc465",
   "metadata": {
    "tags": []
   },
   "outputs": [
    {
     "name": "stdout",
     "output_type": "stream",
     "text": [
      "quand x = 3 alors 2x = 6\n"
     ]
    }
   ],
   "source": [
    "x = 3 # Valeur quelconque\n",
    "\n",
    "print(f\"quand x = {x} alors 2x = {2*x}\")"
   ]
  },
  {
   "cell_type": "markdown",
   "id": "24d89235-5a82-4f40-882c-0f2ba04b1edc",
   "metadata": {},
   "source": [
    "#### Q2. Si ce n'est pas déjà le cas, faites la même chose, mais sans définir de variable intermédiaire (c.a.d d'autre variable que `x`)."
   ]
  },
  {
   "cell_type": "code",
   "execution_count": null,
   "id": "39cec31c-b5c5-4a65-b66a-992f38ae7c98",
   "metadata": {},
   "outputs": [],
   "source": [
    "x = 12\n",
    "# Nop, déjà fait !"
   ]
  },
  {
   "cell_type": "markdown",
   "id": "34ec7601-e32a-4af3-8391-0a2959f9e838",
   "metadata": {},
   "source": [
    "## Exercice B\n",
    "\n",
    "#### Q1. Sans excutez le code, évaluez les expressions suivantes, puis vérifiez vos résultats"
   ]
  },
  {
   "cell_type": "code",
   "execution_count": 33,
   "id": "5950caf1-1771-4643-8f34-3973f188014f",
   "metadata": {
    "tags": []
   },
   "outputs": [
    {
     "name": "stdout",
     "output_type": "stream",
     "text": [
      "True\n",
      "True\n",
      "False\n"
     ]
    }
   ],
   "source": [
    "x = 2\n",
    "y =  8\n",
    "exp1 = x == y // 4 # True\n",
    "exp2 = True or False # True\n",
    "exp3 = 4 + abs(-x) <= 2 # False\n",
    "\n",
    "print(exp1)\n",
    "print(exp2)\n",
    "print(exp3)"
   ]
  },
  {
   "cell_type": "markdown",
   "id": "3e655361-4114-4254-b80f-86cdfbb64b2a",
   "metadata": {},
   "source": [
    "## Exercice C\n",
    "\n",
    "<u> Notion</u> : définition et accès aux élément d'une liste\n",
    "\n",
    "L'objectif de cet exercice est de calculer le produit scalaire entre 2 vecteurs, v1 et v2 situés dans un plan. Les 2 vecteurs sont représentés par des listes.\n",
    "\n",
    "#### Q1. Déclarez deux listes nommées `v1` et `v2`. Initialisez chacune des listes avec deux entiers quelconques représentant les coordonnées du vecteur.\n",
    "\n",
    "#### Q2. Déclarez une variable nommée `produit_scalaire` et affectez lui l'expression permettant de calculer le produit scalaire entre `v1` et `v2`.  \n",
    "On rappelle la formule du produit scalaire entre deux vecteurs $v_1 = (x,y)$ et $v_2 = (x',y')$:  \n",
    "\n",
    "$$v_1.v_2 = xx' + yy'$$\n",
    "\n",
    "Quelques exemples de résultats: $(0,1).(1,0) = 0$, $(1,2).(3,4) = 11$.\n"
   ]
  },
  {
   "cell_type": "code",
   "execution_count": 36,
   "id": "0cd318d5",
   "metadata": {},
   "outputs": [
    {
     "name": "stdout",
     "output_type": "stream",
     "text": [
      "11\n"
     ]
    }
   ],
   "source": [
    "v1 = [1, 2]\n",
    "v2 = [3, 4]\n",
    "\n",
    "\n",
    "def produit_scalaire(v1, v2):\n",
    "    return v1[0]*v2[0] + v1[1]*v2[1]\n",
    "\n",
    "print(produit_scalaire(v1, v2))"
   ]
  },
  {
   "cell_type": "markdown",
   "id": "212d7f25",
   "metadata": {},
   "source": [
    "## Exercice D\n",
    "\n",
    "#### Q1. Créer deux listes `l1` et `l2` contenant chacune 4 zéros en utilisant deux syntaxes différentes."
   ]
  },
  {
   "cell_type": "code",
   "execution_count": 37,
   "id": "f593f03b",
   "metadata": {},
   "outputs": [
    {
     "name": "stdout",
     "output_type": "stream",
     "text": [
      "[0, 0, 0, 0] [0, 0, 0, 0]\n"
     ]
    }
   ],
   "source": [
    "l1 = [0, 0, 0, 0]\n",
    "l2 = [0 for i in range(4)]\n",
    "\n",
    "print(l1, l2)"
   ]
  },
  {
   "cell_type": "markdown",
   "id": "ce417aaa",
   "metadata": {},
   "source": [
    " #### Q2. Créer la liste `l3` qui est la concaténation des deux listes précédentes"
   ]
  },
  {
   "cell_type": "code",
   "execution_count": 39,
   "id": "ee019591",
   "metadata": {},
   "outputs": [
    {
     "name": "stdout",
     "output_type": "stream",
     "text": [
      "[0, 0, 0, 0, 0, 0, 0, 0]\n"
     ]
    }
   ],
   "source": [
    "l3 = l1 + l2\n",
    "\n",
    "print(l3)"
   ]
  },
  {
   "cell_type": "markdown",
   "id": "027306c3",
   "metadata": {},
   "source": [
    "#### Q3. Ajouter les valeurs `5` et `10` à la fin de `l3`"
   ]
  },
  {
   "cell_type": "code",
   "execution_count": 40,
   "id": "41815940",
   "metadata": {},
   "outputs": [
    {
     "name": "stdout",
     "output_type": "stream",
     "text": [
      "[0, 0, 0, 0, 0, 0, 0, 0, 5, 10]\n"
     ]
    }
   ],
   "source": [
    "l3 += [5, 10]\n",
    "\n",
    "print(l3)"
   ]
  }
 ],
 "metadata": {
  "kernelspec": {
   "display_name": "Python 3 (ipykernel)",
   "language": "python",
   "name": "python3"
  },
  "language_info": {
   "codemirror_mode": {
    "name": "ipython",
    "version": 3
   },
   "file_extension": ".py",
   "mimetype": "text/x-python",
   "name": "python",
   "nbconvert_exporter": "python",
   "pygments_lexer": "ipython3",
   "version": "3.10.12"
  }
 },
 "nbformat": 4,
 "nbformat_minor": 5
}
