{
 "cells": [
  {
   "cell_type": "markdown",
   "metadata": {},
   "source": [
    "# <center>ISN1 TD4 - Conditionnelles, boucles et fonctions simples</center>\n",
    "\n",
    "#### Compétences visées\n",
    "- Savoir implémenter une boucle for et une boucle while\n",
    "- Etre capable de choisir le type de boucle approprié\n",
    "- Ecrire un algorithme en langage naturel à partir d'un énoncé et savoir l’implémenter\n",
    "- Ecrire une fonction simple et l’appeler dans un code "
   ]
  },
  {
   "cell_type": "markdown",
   "metadata": {},
   "source": [
    "## Exercice 1 - Mais où est le lapin ? \n",
    "\n",
    "Codez ici votre jeu du lapin du TD3. Vérifiez qu'il fonctionne bien."
   ]
  },
  {
   "cell_type": "code",
   "execution_count": 3,
   "metadata": {},
   "outputs": [
    {
     "name": "stdout",
     "output_type": "stream",
     "text": [
      "Trouvez de lapin dans un champ de 5x5\n",
      "X: 2\n",
      "Y: 2\n",
      "Vous êtes à 2.8284271247461903 de lui\n",
      "X: 3\n",
      "Y: 3\n",
      "Vous êtes à 1.4142135623730951 de lui\n",
      "X: 4\n",
      "Y: 4\n",
      "Lapin trouvé ! Il était bien en (4, 4)\n"
     ]
    }
   ],
   "source": [
    "from math import dist\n",
    "from random import randint\n",
    "\n",
    "n = 5\n",
    "lapin = (randint(0, n-1), randint(0, n-1))\n",
    "lapin_trouve = False\n",
    "\n",
    "print(f\"Trouvez de lapin dans un champ de {n}x{n}\")\n",
    "while not lapin_trouve:\n",
    "    x = int(input(\"X: \"))\n",
    "    y = int(input(\"Y: \"))\n",
    "    \n",
    "    d = dist((x, y), lapin)\n",
    "    if lapin == (x, y):\n",
    "        print(f\"Lapin trouvé ! Il était bien en {lapin}\")\n",
    "        lapin_trouve = True\n",
    "    else:\n",
    "        print(f\"Vous êtes à {d} de lui\")\n",
    "\n"
   ]
  },
  {
   "cell_type": "markdown",
   "metadata": {},
   "source": [
    "## Exercice 2 - Nombre d'Or\n",
    "Comme vu dans le TD précédent, le nombre d'or $\\phi$ est l'unique solution de l'équation $x^2 = x + 1$. Sa valeur exacte est $\\frac{1+\\sqrt 5}{2}$ soit approximativement 1.618034. Il correspond à la valeur asymptotique de la suite définie comme suit :\n",
    "\n",
    "$$\n",
    "\tu_0 = 1\\\\\n",
    "\tu_{n+1} = 1+\\frac{1}{u_{n}}\n",
    "$$\n",
    "\n",
    "\n",
    "---\n",
    "### Cas 1 : le nombre d'itérations est connu\n",
    "\n",
    "#### Q1. Dans la cellule ci-dessous, écrire votre code issu du TD précédent (Q5.1) pour calculer les `nb_iter` premiers termes de la suite ci-dessus afin d'approximer la valeur de $\\phi$. Vérifiez qu'il fonctionne."
   ]
  },
  {
   "cell_type": "code",
   "execution_count": 7,
   "metadata": {},
   "outputs": [
    {
     "name": "stdout",
     "output_type": "stream",
     "text": [
      "1.618033988749895\n"
     ]
    }
   ],
   "source": [
    "def u(nb_iter):\n",
    "    res = 1\n",
    "    for i in range(nb_iter):\n",
    "        res = 1 + 1/res\n",
    "    return res\n",
    "\n",
    "print(u(1000))"
   ]
  },
  {
   "cell_type": "markdown",
   "metadata": {},
   "source": [
    "### Q2. Ecrivez une fonction `affiche_convergence_nb_or` qui prend en paramètre les listes `liste_n` des valeurs de n et `liste_un` des valeurs de un et affiche la courbe d'évolution de $un$."
   ]
  },
  {
   "cell_type": "code",
   "execution_count": 19,
   "metadata": {},
   "outputs": [
    {
     "data": {
      "image/png": "[encoded data removed]",
      "text/plain": [
       "<Figure size 432x288 with 1 Axes>"
      ]
     },
     "metadata": {
      "needs_background": "light"
     },
     "output_type": "display_data"
    }
   ],
   "source": [
    "import numpy as np\n",
    "import matplotlib.pyplot as plt\n",
    "\n",
    "def courbe(f, nb_iter_max):\n",
    "    plt.plot([x for x in range(nb_iter_max)], [f(x) for x in range(nb_iter_max)])\n",
    "    plt.show()\n",
    "\n",
    "courbe(u, 10)"
   ]
  },
  {
   "cell_type": "markdown",
   "metadata": {},
   "source": [
    "### Q3. Modifiez le code de la question 1 afin d'utiliser votre fonction pour afficher la courbe d'évolution de un pour `nb_iter = 30`."
   ]
  },
  {
   "cell_type": "code",
   "execution_count": 20,
   "metadata": {},
   "outputs": [
    {
     "data": {
      "image/png": "[encoded data removed]",
      "text/plain": [
       "<Figure size 432x288 with 1 Axes>"
      ]
     },
     "metadata": {
      "needs_background": "light"
     },
     "output_type": "display_data"
    }
   ],
   "source": [
    "courbe(u, 30)"
   ]
  },
  {
   "cell_type": "markdown",
   "metadata": {},
   "source": [
    "---\n",
    "### Cas 2 : on s'arrête quand on est proche de $\\phi$\n",
    "\n",
    "On souhaite maintenant calculer les termes successifs de la suite jusqu’à ce que la valeur $u_n$ de la suite soit proche à une précision $\\epsilon$ près de la valeur de $\\phi$, c'est-à-dire que la condition suivante soit vraie  : \n",
    "\n",
    "$| u_n − \\phi| < \\epsilon$\n",
    "\n",
    "#### Q2. Écrire un code calculant et affichant les différentes valeurs de la suite jusqu'à convergence (lorsque la condition est vraie) pour une valeur de précision donnée. Tester le code pour différentes précisions (e.g. $10^{−2}$, $10^{−6}$, ...). Plus la précision est petite, plus le résultat doit être proche de la valeur du nombre d'or."
   ]
  },
  {
   "cell_type": "code",
   "execution_count": 28,
   "metadata": {},
   "outputs": [
    {
     "name": "stdout",
     "output_type": "stream",
     "text": [
      "1.62\n",
      "1.618034\n"
     ]
    }
   ],
   "source": [
    "phi = 1.618033988749895\n",
    "\n",
    "def v(n):\n",
    "    e = 10**-n\n",
    "    res = 1\n",
    "    while abs(res - phi) >= e:\n",
    "        res = 1 + 1/res\n",
    "    return round(res, n)\n",
    "\n",
    "print(v(2))\n",
    "print(v(6))"
   ]
  },
  {
   "cell_type": "markdown",
   "metadata": {},
   "source": [
    "---\n",
    "### Cas 3 : on s'arrête quand la suite \"ne bouge plus beaucoup\"\n",
    "\n",
    "On fait maintenant l’hypothèse que l’on ne connaît pas la valeur exacte de $\\phi$. Par contre, une étude approfondie permettrait de montrer que la suite oscille de plus en plus près de sa valeur asymptotique $\\phi$ (on dit que la suite $u_n − \\phi$ est une suite alternée, convergeant asymptotiquement vers 0 et absolument strictement monotone).\n",
    "\n",
    "La condition d'arrêt devient dans ce cas :\n",
    "\n",
    "$|u_n - u_{n-1}| < \\epsilon$\n",
    "\n",
    "#### Q3. Proposez un code réalisant cet objectif pour différentes précisions : $10^{−2}$, $10^{−6}$, etc."
   ]
  },
  {
   "cell_type": "code",
   "execution_count": 34,
   "metadata": {},
   "outputs": [
    {
     "name": "stdout",
     "output_type": "stream",
     "text": [
      "(6, 1.62)\n",
      "(16, 1.618034)\n",
      "(39, 1.618033988749895)\n"
     ]
    }
   ],
   "source": [
    "def w(n):\n",
    "    e = 10**-n\n",
    "    res = 1\n",
    "    res_ = 0\n",
    "    i = 0\n",
    "    while abs(res - res_) >= e:\n",
    "        i += 1\n",
    "        res_ = res\n",
    "        res = 1 + 1/res\n",
    "    return i, round(res, n)\n",
    "\n",
    "print(w(2))\n",
    "print(w(6))\n",
    "print(w(50))"
   ]
  },
  {
   "cell_type": "markdown",
   "metadata": {},
   "source": [
    "&nbsp;\n",
    "---\n",
    "---\n",
    "&nbsp;\n",
    "## Exercice 2 - Jeu du nombre secret\n",
    "\n",
    "Ce jeu radiophonique, célèbre dans les années 70, demandait à un maximum de 10 auditeurs au téléphone de deviner un nombre compris entre 1 et 999 de la façon suivante : le premier proposait un nombre et l’animateur répondait \"plus petit\" ou \"plus grand\" selon que le nombre proposé était plus petit ou plus grand que le nombre secret ; le second poursuivait en proposant un autre nombre, en s’aidant de la réponse faite au premier ; le jeu continuait ainsi jusqu’à ce qu’un auditeur trouve le nombre secret, et gagnait alors les 10000 Francs, ou que les 10 auditeurs aient été interrogés, auquel cas personne ne gagnait.\n",
    "\n",
    "#### Q1. Écrire un algorithme de ce jeu en pseudo-code dans lequel le rôle de l'animateur est tenu par l'ordinateur et celui des auditeurs par l'utilisateur. Puis, faites le tester par un de vos camarades."
   ]
  },
  {
   "cell_type": "code",
   "execution_count": null,
   "metadata": {},
   "outputs": [],
   "source": [
    "-> choisir nombre random\n",
    "répéter max 10 fois :\n",
    "    -> Demander un chiffre à l'utilisateur\n",
    "    Si chiffre plus grand\n",
    "        -> Le chiffre est plus grand\n",
    "    Si chiffre plus petit\n",
    "        -> Le chiffre est plus petit\n",
    "    Sinon\n",
    "        -> C'est le bon chiffre\n",
    "        Fin de la boucle\n",
    "Si chiffre trouvé\n",
    "    -> + 1000 euros\n",
    "Sinon\n",
    "    -> rien gagné"
   ]
  },
  {
   "cell_type": "markdown",
   "metadata": {},
   "source": [
    "---\n",
    "#### Q2. Implémentez votre algorithme en Python\n",
    "\n",
    "<u>Rappel</u> : La fonction `randint` du module [random](https://docs.python.org/3/library/random.html) de la bibliothèque standard Python permet de tirer un nombre entier aléatoire compris entre 2 valeurs données. Allez vérifiez dans la documentation si les bornes sont inclues ou exclues."
   ]
  },
  {
   "cell_type": "code",
   "execution_count": 44,
   "metadata": {},
   "outputs": [
    {
     "name": "stdout",
     "output_type": "stream",
     "text": [
      "1. Choisi un nombre entre 0 et 999 500\n",
      "Le nombre mistère est plus grand que 500\n",
      "2. Choisi un nombre entre 0 et 999 750\n",
      "Le nombre mistère est plus petit que 750\n",
      "3. Choisi un nombre entre 0 et 999 625\n",
      "Le nombre mistère est plus grand que 625\n",
      "4. Choisi un nombre entre 0 et 999 688\n",
      "Le nombre mistère est plus grand que 688\n",
      "5. Choisi un nombre entre 0 et 999 719\n",
      "Le nombre mistère est plus grand que 719\n",
      "6. Choisi un nombre entre 0 et 999 735\n",
      "Le nombre mistère est plus petit que 735\n",
      "7. Choisi un nombre entre 0 et 999 727\n",
      "Le nombre mistère est plus grand que 727\n",
      "8. Choisi un nombre entre 0 et 999 731\n",
      "Le nombre mistère est plus petit que 731\n",
      "9. Choisi un nombre entre 0 et 999 729\n",
      "Le nombre mistère est plus petit que 729\n",
      "10. Choisi un nombre entre 0 et 999 728\n",
      "Félicitation ! Vous gagnez 1000 euros !\n"
     ]
    }
   ],
   "source": [
    "from random import randint\n",
    "\n",
    "num_m = randint(0, 999)\n",
    "num_m_trouve = False\n",
    "i = 0\n",
    "\n",
    "while i < 10 and not num_m_trouve:\n",
    "    i += 1\n",
    "    num = int(input(f\"{i}. Choisi un nombre entre 0 et 999 \"))\n",
    "    if num < num_m:\n",
    "        print(\"Le nombre mistère est plus grand que\", num)\n",
    "    elif num > num_m:\n",
    "        print(\"Le nombre mistère est plus petit que\", num)\n",
    "    else:\n",
    "        num_m_trouve = True\n",
    "\n",
    "if num_m_trouve:\n",
    "    print(\"Félicitation ! Vous gagnez 1000 euros !\")\n",
    "else:\n",
    "    print(\"Personne n'a trouvé... le chiffre était\", num_m)"
   ]
  },
  {
   "cell_type": "markdown",
   "metadata": {},
   "source": [
    "---\n",
    "Il est possible de trouver automatiquement la bonne valeur avec le **principe de dichotomie** : à chaque itération, on coupe l’intervalle en 2 intervalles de tailles égales et on regarde dans quel intervalle se trouve le nombre recherché (en le comparant avec la valeur du milieu), si on n'a pas trouvé la valeur, on fait une nouvelle itération dans lequel le nouvel intervalle est donc la moitié du précédent.\n",
    "\n",
    "#### Q3. Écrivez maintenant le jeu inverse : Écrivez un algorithme en pseudo-code où un humain choisi une valeur entre 1 et 999, puis l'ordinateur cherche la valeur cachée en utilisant le principe de dichotomie. Affichez à la fin le nombre d'itérations nécessaires pour trouver le nombre secret."
   ]
  },
  {
   "cell_type": "code",
   "execution_count": null,
   "metadata": {},
   "outputs": [],
   "source": [
    "-> Demander un nombre mistère\n",
    "répéter max 10 fois :\n",
    "    -> tester n pour (n_max + n_min) / 2\n",
    "    Si chiffre plus grand\n",
    "        -> n_min = n\n",
    "    Si chiffre plus petit\n",
    "        -> n_max = n\n",
    "    Sinon\n",
    "        -> C'est le bon chiffre\n",
    "        Fin de la boucle\n",
    "Si chiffre trouvé\n",
    "    -> + 1000 euros\n",
    "Sinon\n",
    "    -> rien gagné"
   ]
  },
  {
   "cell_type": "markdown",
   "metadata": {
    "tags": []
   },
   "source": [
    "---\n",
    "#### Q4. Implémentez votre algorithme et vérifiez qu'il fonctionne correctement"
   ]
  },
  {
   "cell_type": "code",
   "execution_count": 45,
   "metadata": {},
   "outputs": [
    {
     "name": "stdout",
     "output_type": "stream",
     "text": [
      "Choisi nombre mistère entre 0 et 1000 : 33\n",
      "1. Le nombre mistère est plus petit que 500\n",
      "2. Le nombre mistère est plus petit que 250\n",
      "3. Le nombre mistère est plus petit que 125\n",
      "4. Le nombre mistère est plus petit que 62\n",
      "5. Le nombre mistère est plus grand que 31\n",
      "6. Le nombre mistère est plus petit que 46\n",
      "7. Le nombre mistère est plus petit que 38\n",
      "8. Le nombre mistère est plus petit que 34\n",
      "9. Le nombre mistère est plus grand que 32\n",
      "Félicitation ! Vous gagnez 1000 euros ! Le nombre était bien 33\n"
     ]
    }
   ],
   "source": [
    "num_m = int(input(f\"Choisi nombre mistère entre 0 et 1000 : \"))\n",
    "num_m_trouve = False\n",
    "i = 0\n",
    "\n",
    "num_min = 0\n",
    "num_max = 1000\n",
    "\n",
    "while i < 10 and not num_m_trouve:\n",
    "    i += 1\n",
    "    num = round((num_max + num_min) / 2)\n",
    "    if num < num_m:\n",
    "        print(f\"{i}. Le nombre mistère est plus grand que\", num)\n",
    "        num_min = num\n",
    "    elif num > num_m:\n",
    "        print(f\"{i}. Le nombre mistère est plus petit que\", num)\n",
    "        num_max = num\n",
    "    else:\n",
    "        num_m_trouve = True\n",
    "\n",
    "if num_m_trouve:\n",
    "    print(\"Félicitation ! Vous gagnez 1000 euros ! Le nombre était bien\", num_m)\n",
    "else:\n",
    "    print(\"Personne n'a trouvé... le nombre était\", num_m)"
   ]
  },
  {
   "cell_type": "markdown",
   "metadata": {},
   "source": [
    "&nbsp;\n",
    "---\n",
    "---\n",
    "\n",
    "# Devoirs pour la prochaine séance\n",
    "### Faire l'exercice 1 du TD5 sur papier"
   ]
  },
  {
   "cell_type": "markdown",
   "metadata": {},
   "source": [
    "&nbsp;\n",
    "---\n",
    "---\n",
    "# Pour s'entrainer\n",
    "\n",
    "## Exercice A - Suite de Syracuse\n",
    "\n",
    "On considère la **suite de Syracuse**, définie par la relation de récurrence suivante :\n",
    "\n",
    "\\begin{equation*}\n",
    "u_{n+1} = \\left\\{ \\begin{array}{ll}\n",
    "\\frac{u_n}{2}, & (\\text{si $u_n$ est pair}) \\\\\n",
    "3 u_{n} +1, & (\\text{si $u_n$ est impair})\n",
    "\\end{array} \\right.\n",
    "\\end{equation*}\n",
    "\n",
    "Il a été trouvé expérimentalement (mais jamais démontré) que, pour $n$ suffisamment grand, $u_n$ oscille entre les valeurs 1, 4 et 2. Cette propriété semble vraie pour tout entier strictement positif $u_0$ (on dit que le bassin d’attraction de l’orbite périodique $1 \\rightarrow 4 \\rightarrow 2$ est $\\mathbb N^\\star$).\n",
    "\n",
    "#### Q1. Proposez la fonction `syracuse_suiv` qui permet de calculer $u_{n+1}$ à partir de $u_n$."
   ]
  },
  {
   "cell_type": "code",
   "execution_count": 46,
   "metadata": {},
   "outputs": [],
   "source": [
    "def syracuse_suiv(u):\n",
    "    if u % 2 == 0:\n",
    "        return u / 2\n",
    "    return 3 * u + 1"
   ]
  },
  {
   "cell_type": "markdown",
   "metadata": {},
   "source": [
    "#### Q2. Proposez un code qui calcule et affiche les `nb_iter` premiers termes de la suite de Syracuse. On posera $u_0 = 50$. Vous testerez le programme pour différentes valeurs de `nb_iter`."
   ]
  },
  {
   "cell_type": "code",
   "execution_count": 48,
   "metadata": {},
   "outputs": [
    {
     "name": "stdout",
     "output_type": "stream",
     "text": [
      "25.0\n",
      "76.0\n",
      "38.0\n",
      "19.0\n"
     ]
    }
   ],
   "source": [
    "def syracuse(nb_iter):\n",
    "    u = 50\n",
    "    for i in range(nb_iter):\n",
    "        u = syracuse_suiv(u)\n",
    "    return u\n",
    "\n",
    "print(syracuse(1))\n",
    "print(syracuse(2))\n",
    "print(syracuse(3))\n",
    "print(syracuse(4))"
   ]
  },
  {
   "cell_type": "markdown",
   "metadata": {},
   "source": [
    "### Q3. Modifiez votre code précédent afin d'afficher l'évolution de la suite de Syracuse en fonction des itérations. Vous devez observer l'oscillation entre les trois valeurs 1, 4, 2."
   ]
  },
  {
   "cell_type": "code",
   "execution_count": 52,
   "metadata": {},
   "outputs": [
    {
     "data": {
      "image/png": "[encoded data removed]",
      "text/plain": [
       "<Figure size 432x288 with 1 Axes>"
      ]
     },
     "metadata": {
      "needs_background": "light"
     },
     "output_type": "display_data"
    }
   ],
   "source": [
    "courbe(syracuse, 100)"
   ]
  },
  {
   "cell_type": "markdown",
   "metadata": {},
   "source": [
    "#### Q3. Proposez un code qui calcule et affiche les termes de la suite de Syracuse jusqu'à obtenir 1. On posera encore $u_0 = 50$."
   ]
  },
  {
   "cell_type": "code",
   "execution_count": 54,
   "metadata": {},
   "outputs": [
    {
     "name": "stdout",
     "output_type": "stream",
     "text": [
      "u0 = 50\n",
      "u1 = 25.0\n",
      "u2 = 76.0\n",
      "u3 = 38.0\n",
      "u4 = 19.0\n",
      "u5 = 58.0\n",
      "u6 = 29.0\n",
      "u7 = 88.0\n",
      "u8 = 44.0\n",
      "u9 = 22.0\n",
      "u10 = 11.0\n",
      "u11 = 34.0\n",
      "u12 = 17.0\n",
      "u13 = 52.0\n",
      "u14 = 26.0\n",
      "u15 = 13.0\n",
      "u16 = 40.0\n",
      "u17 = 20.0\n",
      "u18 = 10.0\n",
      "u19 = 5.0\n",
      "u20 = 16.0\n",
      "u21 = 8.0\n",
      "u22 = 4.0\n",
      "u23 = 2.0\n",
      "u24 = 1.0\n"
     ]
    }
   ],
   "source": [
    "n = 0\n",
    "res = 50\n",
    "print(\"u0 = 50\")\n",
    "\n",
    "while res != 1:\n",
    "    n += 1\n",
    "    res = syracuse_suiv(res)\n",
    "    print(f\"u{n} = {res}\")"
   ]
  },
  {
   "cell_type": "code",
   "execution_count": null,
   "metadata": {},
   "outputs": [],
   "source": []
  }
 ],
 "metadata": {
  "kernelspec": {
   "display_name": "Python 3 (ipykernel)",
   "language": "python",
   "name": "python3"
  },
  "language_info": {
   "codemirror_mode": {
    "name": "ipython",
    "version": 3
   },
   "file_extension": ".py",
   "mimetype": "text/x-python",
   "name": "python",
   "nbconvert_exporter": "python",
   "pygments_lexer": "ipython3",
   "version": "3.10.12"
  }
 },
 "nbformat": 4,
 "nbformat_minor": 4
}
